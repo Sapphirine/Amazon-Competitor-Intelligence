{
 "cells": [
  {
   "cell_type": "code",
   "execution_count": 8,
   "metadata": {},
   "outputs": [],
   "source": [
    "import os\n",
    "import json\n",
    "import gzip\n",
    "import pandas as pd\n",
    "from urllib.request import urlopen\n",
    "from tqdm import tqdm"
   ]
  },
  {
   "cell_type": "code",
   "execution_count": 89,
   "metadata": {},
   "outputs": [],
   "source": [
    "%load_ext autoreload\n",
    "%autoreload 2\n"
   ]
  },
  {
   "cell_type": "code",
   "execution_count": 3,
   "metadata": {},
   "outputs": [],
   "source": [
    "import warnings\n",
    "warnings.filterwarnings('ignore')"
   ]
  },
  {
   "cell_type": "code",
   "execution_count": 14,
   "metadata": {},
   "outputs": [],
   "source": [
    "data = []\n",
    "with gzip.open('../Downloads/All_Beauty.json.gz') as f:\n",
    "    for l in f:\n",
    "        data.append(json.loads(l.strip()))"
   ]
  },
  {
   "cell_type": "code",
   "execution_count": 15,
   "metadata": {},
   "outputs": [],
   "source": [
    "cur = pd.DataFrame(data\n",
    "                  )"
   ]
  },
  {
   "cell_type": "code",
   "execution_count": 16,
   "metadata": {},
   "outputs": [],
   "source": [
    "overall = cur.overall\n",
    "text = cur.reviewText"
   ]
  },
  {
   "cell_type": "code",
   "execution_count": 17,
   "metadata": {},
   "outputs": [],
   "source": [
    "beauty = pd.DataFrame()\n",
    "beauty[\"overall\"] = overall\n",
    "beauty[\"text\"] = text"
   ]
  },
  {
   "cell_type": "code",
   "execution_count": 51,
   "metadata": {},
   "outputs": [],
   "source": [
    "beauty.loc[beauty[\"overall\"] < 3, \"overall\"] = 1\n",
    "beauty.loc[beauty[\"overall\"] > 3, \"overall\"] = 2"
   ]
  },
  {
   "cell_type": "code",
   "execution_count": null,
   "metadata": {},
   "outputs": [],
   "source": []
  },
  {
   "cell_type": "code",
   "execution_count": 11,
   "metadata": {},
   "outputs": [
    {
     "data": {
      "text/plain": [
       "190000"
      ]
     },
     "execution_count": 11,
     "metadata": {},
     "output_type": "execute_result"
    }
   ],
   "source": [
    "len(beauty.iloc[-190000:])"
   ]
  },
  {
   "cell_type": "code",
   "execution_count": 20,
   "metadata": {},
   "outputs": [],
   "source": [
    "beauty = beauty.drop(beauty[beauty[\"overall\"] == 3].index)"
   ]
  },
  {
   "cell_type": "code",
   "execution_count": 21,
   "metadata": {},
   "outputs": [],
   "source": [
    "test = beauty.iloc[-190000:]"
   ]
  },
  {
   "cell_type": "code",
   "execution_count": 22,
   "metadata": {},
   "outputs": [
    {
     "name": "stderr",
     "output_type": "stream",
     "text": [
      "/Users/liu_zizhou/anaconda3/lib/python3.7/site-packages/pandas/core/indexing.py:1763: SettingWithCopyWarning: \n",
      "A value is trying to be set on a copy of a slice from a DataFrame.\n",
      "Try using .loc[row_indexer,col_indexer] = value instead\n",
      "\n",
      "See the caveats in the documentation: https://pandas.pydata.org/pandas-docs/stable/user_guide/indexing.html#returning-a-view-versus-a-copy\n",
      "  isetter(loc, value)\n",
      "/Users/liu_zizhou/anaconda3/lib/python3.7/site-packages/pandas/core/indexing.py:1763: SettingWithCopyWarning: \n",
      "A value is trying to be set on a copy of a slice from a DataFrame.\n",
      "Try using .loc[row_indexer,col_indexer] = value instead\n",
      "\n",
      "See the caveats in the documentation: https://pandas.pydata.org/pandas-docs/stable/user_guide/indexing.html#returning-a-view-versus-a-copy\n",
      "  isetter(loc, value)\n"
     ]
    }
   ],
   "source": [
    "test.loc[test[\"overall\"] < 3, \"overall\"] = 1\n",
    "test.loc[test[\"overall\"] > 3, \"overall\"] = 2"
   ]
  },
  {
   "cell_type": "code",
   "execution_count": 52,
   "metadata": {},
   "outputs": [
    {
     "data": {
      "text/plain": [
       "1.0    210517\n",
       "2.0    131273\n",
       "Name: overall, dtype: int64"
      ]
     },
     "execution_count": 52,
     "metadata": {},
     "output_type": "execute_result"
    }
   ],
   "source": [
    "beauty.overall.value_counts()\n",
    "#test=test.drop(test[\"overall\"] == 3)"
   ]
  },
  {
   "cell_type": "code",
   "execution_count": 62,
   "metadata": {},
   "outputs": [],
   "source": [
    "test_neg = beauty[beauty[\"overall\"] == 1].iloc[-95000:]\n",
    "test_pos = beauty[beauty[\"overall\"] == 2].iloc[-95000:]"
   ]
  },
  {
   "cell_type": "code",
   "execution_count": 64,
   "metadata": {},
   "outputs": [],
   "source": [
    "train_neg=test_neg.sample(frac=0.8,random_state=200)\n",
    "train_pos=test_pos.sample(frac=0.8,random_state=200)\n",
    "test_neg = test_neg.drop(train_neg.index)\n",
    "test_pos = test_pos.drop(train_pos.index)"
   ]
  },
  {
   "cell_type": "code",
   "execution_count": 65,
   "metadata": {},
   "outputs": [],
   "source": [
    "test = pd.concat([test_neg,test_pos]).sample(frac = 1,random_state=200)\n",
    "train = pd.concat([train_neg,train_pos]).sample(frac = 1,random_state=200)"
   ]
  },
  {
   "cell_type": "code",
   "execution_count": 24,
   "metadata": {},
   "outputs": [],
   "source": [
    "# train=test.sample(frac=0.8,random_state=200) #random state is a seed value\n",
    "# test=test.drop(train.index)"
   ]
  },
  {
   "cell_type": "code",
   "execution_count": 67,
   "metadata": {},
   "outputs": [
    {
     "data": {
      "text/plain": [
       "2.0    19000\n",
       "1.0    19000\n",
       "Name: overall, dtype: int64"
      ]
     },
     "execution_count": 67,
     "metadata": {},
     "output_type": "execute_result"
    }
   ],
   "source": [
    "test.overall.value_counts()"
   ]
  },
  {
   "cell_type": "code",
   "execution_count": 68,
   "metadata": {},
   "outputs": [],
   "source": [
    "from sklearn.linear_model import LogisticRegression\n",
    "from sklearn.feature_extraction.text import CountVectorizer,TfidfVectorizer\n",
    "Y_train=train['overall'].values\n",
    "Y_test=test['overall'].values\n",
    "     \n",
    "# GET FEATURES\n",
    "X_train,X_test,feature_transformer=extract_features(\"text\",train,test)"
   ]
  },
  {
   "cell_type": "code",
   "execution_count": 69,
   "metadata": {},
   "outputs": [
    {
     "name": "stdout",
     "output_type": "stream",
     "text": [
      "[LibLinear]"
     ]
    }
   ],
   "source": [
    "scikit_log_reg = LogisticRegression(verbose=1, solver='liblinear',random_state=0, C=5, penalty='l2',max_iter=1000)\n",
    "model=scikit_log_reg.fit(X_train,Y_train)"
   ]
  },
  {
   "cell_type": "code",
   "execution_count": 44,
   "metadata": {},
   "outputs": [],
   "source": [
    "def extract_features(field,training_data,testing_data,type=\"binary\"):\n",
    "    \"\"\"Extract features using different methods\"\"\"\n",
    "    \n",
    "    #logging.info(\"Extracting features and creating vocabulary...\")\n",
    "    \n",
    "    if \"binary\" in type:\n",
    "        \n",
    "        # BINARY FEATURE REPRESENTATION\n",
    "        cv= CountVectorizer(binary=True, max_df=0.95)\n",
    "        #print(training_data[field])\n",
    "        cv.fit_transform(training_data[field].values.astype('U'))\n",
    "        \n",
    "        train_feature_set=cv.transform(training_data[field].values.astype('U'))\n",
    "        test_feature_set=cv.transform(testing_data[field].values.astype('U'))\n",
    "        \n",
    "        return train_feature_set,test_feature_set,cv"
   ]
  },
  {
   "cell_type": "code",
   "execution_count": 72,
   "metadata": {},
   "outputs": [],
   "source": [
    "from sklearn.metrics import classification_report\n",
    "from sklearn.metrics import confusion_matrix, ConfusionMatrixDisplay\n",
    "import matplotlib.pyplot as plt\n",
    "labels = [1,2]\n",
    "target_names = ['negative','positive']\n",
    "def report(true, predicted, labels = None, target_names = None):\n",
    "    print(classification_report(true,predicted,labels = labels, target_names = target_names,digits=4))\n",
    "    cm = confusion_matrix(true,predicted,labels = labels)\n",
    "    disp = ConfusionMatrixDisplay(confusion_matrix=cm, display_labels=target_names)\n",
    "    disp.plot()\n",
    "    plt.show()"
   ]
  },
  {
   "cell_type": "code",
   "execution_count": 76,
   "metadata": {},
   "outputs": [
    {
     "name": "stdout",
     "output_type": "stream",
     "text": [
      "Requirement already satisfied: transformers in /Users/liu_zizhou/opt/anaconda3/lib/python3.8/site-packages (4.4.2)\n",
      "Requirement already satisfied: tqdm>=4.27 in /Users/liu_zizhou/opt/anaconda3/lib/python3.8/site-packages (from transformers) (4.50.0)\n",
      "Requirement already satisfied: regex!=2019.12.17 in /Users/liu_zizhou/opt/anaconda3/lib/python3.8/site-packages (from transformers) (2020.9.27)\n",
      "Requirement already satisfied: filelock in /Users/liu_zizhou/opt/anaconda3/lib/python3.8/site-packages (from transformers) (3.0.12)\n",
      "Requirement already satisfied: numpy>=1.17 in /Users/liu_zizhou/opt/anaconda3/lib/python3.8/site-packages (from transformers) (1.19.2)\n",
      "Requirement already satisfied: sacremoses in /Users/liu_zizhou/opt/anaconda3/lib/python3.8/site-packages (from transformers) (0.0.43)\n",
      "Requirement already satisfied: tokenizers<0.11,>=0.10.1 in /Users/liu_zizhou/opt/anaconda3/lib/python3.8/site-packages (from transformers) (0.10.2)\n",
      "Requirement already satisfied: requests in /Users/liu_zizhou/opt/anaconda3/lib/python3.8/site-packages (from transformers) (2.24.0)\n",
      "Requirement already satisfied: packaging in /Users/liu_zizhou/opt/anaconda3/lib/python3.8/site-packages (from transformers) (20.4)\n",
      "Requirement already satisfied: joblib in /Users/liu_zizhou/opt/anaconda3/lib/python3.8/site-packages (from sacremoses->transformers) (0.16.0)\n",
      "Requirement already satisfied: six in /Users/liu_zizhou/opt/anaconda3/lib/python3.8/site-packages (from sacremoses->transformers) (1.15.0)\n",
      "Requirement already satisfied: click in /Users/liu_zizhou/opt/anaconda3/lib/python3.8/site-packages (from sacremoses->transformers) (7.1.2)\n",
      "Requirement already satisfied: certifi>=2017.4.17 in /Users/liu_zizhou/opt/anaconda3/lib/python3.8/site-packages (from requests->transformers) (2020.6.20)\n",
      "Requirement already satisfied: urllib3!=1.25.0,!=1.25.1,<1.26,>=1.21.1 in /Users/liu_zizhou/opt/anaconda3/lib/python3.8/site-packages (from requests->transformers) (1.25.10)\n",
      "Requirement already satisfied: idna<3,>=2.5 in /Users/liu_zizhou/opt/anaconda3/lib/python3.8/site-packages (from requests->transformers) (2.10)\n",
      "Requirement already satisfied: chardet<4,>=3.0.2 in /Users/liu_zizhou/opt/anaconda3/lib/python3.8/site-packages (from requests->transformers) (3.0.4)\n",
      "Requirement already satisfied: pyparsing>=2.0.2 in /Users/liu_zizhou/opt/anaconda3/lib/python3.8/site-packages (from packaging->transformers) (2.4.7)\n"
     ]
    }
   ],
   "source": [
    "!pip install transformers"
   ]
  },
  {
   "cell_type": "code",
   "execution_count": 80,
   "metadata": {},
   "outputs": [],
   "source": [
    "test.to_csv(\"test.csv\")\n",
    "train.to_csv(\"train.csv\")"
   ]
  },
  {
   "cell_type": "code",
   "execution_count": 79,
   "metadata": {},
   "outputs": [
    {
     "ename": "ModuleNotFoundError",
     "evalue": "No module named 'transformers'",
     "output_type": "error",
     "traceback": [
      "\u001b[0;31m---------------------------------------------------------------------------\u001b[0m",
      "\u001b[0;31mModuleNotFoundError\u001b[0m                       Traceback (most recent call last)",
      "\u001b[0;32m<ipython-input-79-aadb58bd21c5>\u001b[0m in \u001b[0;36m<module>\u001b[0;34m\u001b[0m\n\u001b[1;32m      1\u001b[0m \u001b[0;31m## PyTorch Transformer\u001b[0m\u001b[0;34m\u001b[0m\u001b[0;34m\u001b[0m\u001b[0;34m\u001b[0m\u001b[0m\n\u001b[0;32m----> 2\u001b[0;31m \u001b[0;32mfrom\u001b[0m \u001b[0mtransformers\u001b[0m \u001b[0;32mimport\u001b[0m \u001b[0mRobertaModel\u001b[0m\u001b[0;34m,\u001b[0m \u001b[0mRobertaTokenizer\u001b[0m\u001b[0;34m\u001b[0m\u001b[0;34m\u001b[0m\u001b[0m\n\u001b[0m\u001b[1;32m      3\u001b[0m \u001b[0;32mfrom\u001b[0m \u001b[0mtransformers\u001b[0m \u001b[0;32mimport\u001b[0m \u001b[0mRobertaForSequenceClassification\u001b[0m\u001b[0;34m,\u001b[0m \u001b[0mRobertaConfig\u001b[0m\u001b[0;34m\u001b[0m\u001b[0;34m\u001b[0m\u001b[0m\n\u001b[1;32m      4\u001b[0m \u001b[0mconfig\u001b[0m \u001b[0;34m=\u001b[0m \u001b[0mRobertaConfig\u001b[0m\u001b[0;34m.\u001b[0m\u001b[0mfrom_pretrained\u001b[0m\u001b[0;34m(\u001b[0m\u001b[0;34m'roberta-base'\u001b[0m\u001b[0;34m)\u001b[0m\u001b[0;34m\u001b[0m\u001b[0;34m\u001b[0m\u001b[0m\n\u001b[1;32m      5\u001b[0m \u001b[0mconfig\u001b[0m\u001b[0;34m.\u001b[0m\u001b[0mnum_labels\u001b[0m \u001b[0;34m=\u001b[0m \u001b[0;36m2\u001b[0m\u001b[0;34m\u001b[0m\u001b[0;34m\u001b[0m\u001b[0m\n",
      "\u001b[0;31mModuleNotFoundError\u001b[0m: No module named 'transformers'"
     ]
    }
   ],
   "source": [
    "## PyTorch Transformer\n",
    "from transformers import RobertaModel, RobertaTokenizer\n",
    "from transformers import RobertaForSequenceClassification, RobertaConfig\n",
    "config = RobertaConfig.from_pretrained('roberta-base')\n",
    "config.num_labels = 2\n",
    "tokenizer = RobertaTokenizer.from_pretrained('roberta-base')\n",
    "model = RobertaForSequenceClassification(config)"
   ]
  },
  {
   "cell_type": "code",
   "execution_count": null,
   "metadata": {},
   "outputs": [],
   "source": [
    "def prepare_features(seq_1, max_seq_length = 300, \n",
    "             zero_pad = False, include_CLS_token = True, include_SEP_token = True):\n",
    "    ## Tokenzine Input\n",
    "    tokens_a = tokenizer.tokenize(seq_1)\n",
    "\n",
    "    ## Truncate\n",
    "    if len(tokens_a) > max_seq_length - 2:\n",
    "        tokens_a = tokens_a[0:(max_seq_length - 2)]\n",
    "    ## Initialize Tokens\n",
    "    tokens = []\n",
    "    if include_CLS_token:\n",
    "        tokens.append(tokenizer.cls_token)\n",
    "    ## Add Tokens and separators\n",
    "    for token in tokens_a:\n",
    "        tokens.append(token)\n",
    "\n",
    "    if include_SEP_token:\n",
    "        tokens.append(tokenizer.sep_token)\n",
    "\n",
    "    input_ids = tokenizer.convert_tokens_to_ids(tokens)\n",
    "    ## Input Mask \n",
    "    input_mask = [1] * len(input_ids)\n",
    "    ## Zero-pad sequence lenght\n",
    "    if zero_pad:\n",
    "        while len(input_ids) < max_seq_length:\n",
    "            input_ids.append(0)\n",
    "            input_mask.append(0)\n",
    "    return torch.tensor(input_ids).unsqueeze(0), input_mask"
   ]
  },
  {
   "cell_type": "code",
   "execution_count": null,
   "metadata": {},
   "outputs": [],
   "source": [
    "class Intents(Dataset):\n",
    "    def __init__(self, dataframe):\n",
    "        self.len = len(dataframe)\n",
    "        self.data = dataframe\n",
    "        \n",
    "    def __getitem__(self, index):\n",
    "        text = self.data.text[index]\n",
    "        y = self.data.label[index]\n",
    "        X, _  = prepare_features(text)\n",
    "        return X, y\n",
    "    \n",
    "    def __len__(self):\n",
    "        return self.len"
   ]
  },
  {
   "cell_type": "code",
   "execution_count": 70,
   "metadata": {},
   "outputs": [],
   "source": [
    "predictions=model.predict(X_test)"
   ]
  },
  {
   "cell_type": "code",
   "execution_count": 73,
   "metadata": {},
   "outputs": [
    {
     "name": "stdout",
     "output_type": "stream",
     "text": [
      "              precision    recall  f1-score   support\n",
      "\n",
      "         1.0     0.6624    0.7516    0.7042     19000\n",
      "         2.0     0.7129    0.6170    0.6615     19000\n",
      "\n",
      "    accuracy                         0.6843     38000\n",
      "   macro avg     0.6877    0.6843    0.6829     38000\n",
      "weighted avg     0.6877    0.6843    0.6829     38000\n",
      "\n"
     ]
    },
    {
     "data": {
      "image/png": "[encoded data removed]",
      "text/plain": [
       "<Figure size 432x288 with 2 Axes>"
      ]
     },
     "metadata": {
      "needs_background": "light"
     },
     "output_type": "display_data"
    },
    {
     "name": "stdout",
     "output_type": "stream",
     "text": [
      "None\n"
     ]
    }
   ],
   "source": [
    "print(report(Y_test, predictions))"
   ]
  },
  {
   "cell_type": "code",
   "execution_count": null,
   "metadata": {},
   "outputs": [],
   "source": []
  },
  {
   "cell_type": "code",
   "execution_count": 34,
   "metadata": {},
   "outputs": [],
   "source": [
    "import pandas as pd\n",
    "\n",
    "\n",
    "chunks = pd.read_json(\"Electronics.json\", lines=True, chunksize = 1000)\n"
   ]
  },
  {
   "cell_type": "code",
   "execution_count": 35,
   "metadata": {},
   "outputs": [
    {
     "name": "stderr",
     "output_type": "stream",
     "text": [
      "20700it [03:15, 105.64it/s]\n"
     ]
    }
   ],
   "source": [
    "limit = 20700\n",
    "count = 0\n",
    "for c in tqdm(chunks):\n",
    "    if count < limit:\n",
    "        count += 1\n",
    "        continue\n",
    "    break"
   ]
  },
  {
   "cell_type": "code",
   "execution_count": 36,
   "metadata": {},
   "outputs": [
    {
     "name": "stderr",
     "output_type": "stream",
     "text": [
      "294it [00:12, 23.37it/s]\n"
     ]
    }
   ],
   "source": [
    "data = pd.DataFrame()\n",
    "for c in tqdm(chunks):\n",
    "    \n",
    "    data = data.append(c)\n",
    "    "
   ]
  },
  {
   "cell_type": "code",
   "execution_count": 17,
   "metadata": {},
   "outputs": [],
   "source": [
    "from datetime import datetime"
   ]
  },
  {
   "cell_type": "code",
   "execution_count": 40,
   "metadata": {},
   "outputs": [
    {
     "data": {
      "text/plain": [
       "293353"
      ]
     },
     "execution_count": 40,
     "metadata": {},
     "output_type": "execute_result"
    }
   ],
   "source": [
    "len(data)"
   ]
  },
  {
   "cell_type": "code",
   "execution_count": 38,
   "metadata": {},
   "outputs": [],
   "source": [
    "onestar = data.loc[data[\"overall\"] == 1]"
   ]
  },
  {
   "cell_type": "code",
   "execution_count": 39,
   "metadata": {},
   "outputs": [],
   "source": [
    "twostar = data.loc[data[\"overall\"] == 2]\n",
    "threestar = data.loc[data[\"overall\"] == 3]\n",
    "\n",
    "fourstar = data.loc[data[\"overall\"] == 4]\n",
    "fivestar = data.loc[data[\"overall\"] == 5]"
   ]
  },
  {
   "cell_type": "code",
   "execution_count": 100,
   "metadata": {},
   "outputs": [
    {
     "data": {
      "text/plain": [
       "60000"
      ]
     },
     "execution_count": 100,
     "metadata": {},
     "output_type": "execute_result"
    }
   ],
   "source": [
    "len(data.iloc[-60001 : -1])"
   ]
  },
  {
   "cell_type": "code",
   "execution_count": 41,
   "metadata": {},
   "outputs": [],
   "source": [
    "cur = data.iloc[-60001 : -1]"
   ]
  },
  {
   "cell_type": "code",
   "execution_count": 42,
   "metadata": {},
   "outputs": [
    {
     "data": {
      "text/plain": [
       "60000"
      ]
     },
     "execution_count": 42,
     "metadata": {},
     "output_type": "execute_result"
    }
   ],
   "source": [
    "len(cur)"
   ]
  },
  {
   "cell_type": "code",
   "execution_count": 46,
   "metadata": {},
   "outputs": [],
   "source": [
    "train=cur.sample(frac=0.8,random_state=200) #random state is a seed value\n",
    "test=cur.drop(train.index)"
   ]
  },
  {
   "cell_type": "code",
   "execution_count": 23,
   "metadata": {},
   "outputs": [],
   "source": [
    "apple = []"
   ]
  },
  {
   "cell_type": "code",
   "execution_count": 33,
   "metadata": {},
   "outputs": [
    {
     "data": {
      "text/html": [
       "<div>\n",
       "<style scoped>\n",
       "    .dataframe tbody tr th:only-of-type {\n",
       "        vertical-align: middle;\n",
       "    }\n",
       "\n",
       "    .dataframe tbody tr th {\n",
       "        vertical-align: top;\n",
       "    }\n",
       "\n",
       "    .dataframe thead th {\n",
       "        text-align: right;\n",
       "    }\n",
       "</style>\n",
       "<table border=\"1\" class=\"dataframe\">\n",
       "  <thead>\n",
       "    <tr style=\"text-align: right;\">\n",
       "      <th></th>\n",
       "      <th>overall</th>\n",
       "      <th>verified</th>\n",
       "      <th>reviewTime</th>\n",
       "      <th>reviewerID</th>\n",
       "      <th>asin</th>\n",
       "      <th>reviewerName</th>\n",
       "      <th>reviewText</th>\n",
       "      <th>summary</th>\n",
       "      <th>unixReviewTime</th>\n",
       "      <th>style</th>\n",
       "      <th>vote</th>\n",
       "      <th>image</th>\n",
       "    </tr>\n",
       "  </thead>\n",
       "  <tbody>\n",
       "    <tr>\n",
       "      <th>20934352</th>\n",
       "      <td>4</td>\n",
       "      <td>True</td>\n",
       "      <td>09 20, 2018</td>\n",
       "      <td>A3G95RJJ51WD8H</td>\n",
       "      <td>B01G4SSSQ4</td>\n",
       "      <td>Omar Cortina</td>\n",
       "      <td>Charges without issues. Works great with my HP...</td>\n",
       "      <td>Works great for my HP Revolve 810</td>\n",
       "      <td>1537401600</td>\n",
       "      <td>NaN</td>\n",
       "      <td>NaN</td>\n",
       "      <td>[https://images-na.ssl-images-amazon.com/image...</td>\n",
       "    </tr>\n",
       "    <tr>\n",
       "      <th>20934353</th>\n",
       "      <td>5</td>\n",
       "      <td>True</td>\n",
       "      <td>09 20, 2018</td>\n",
       "      <td>A4OOB8NOIYJWF</td>\n",
       "      <td>B01G4SSSQ4</td>\n",
       "      <td>Huascar G.</td>\n",
       "      <td>Fast Shipping and excelent Product Quality, Th...</td>\n",
       "      <td>Fast Shipping and excelent Product Quality, Th...</td>\n",
       "      <td>1537401600</td>\n",
       "      <td>NaN</td>\n",
       "      <td>NaN</td>\n",
       "      <td>NaN</td>\n",
       "    </tr>\n",
       "    <tr>\n",
       "      <th>20934354</th>\n",
       "      <td>1</td>\n",
       "      <td>True</td>\n",
       "      <td>09 20, 2018</td>\n",
       "      <td>A2X416AYFNXNUV</td>\n",
       "      <td>B01G4SSSQ4</td>\n",
       "      <td>John De Mott</td>\n",
       "      <td>Didn't charge laptop, feels incredibly light a...</td>\n",
       "      <td>Sparked when I plugged in, didn't charge</td>\n",
       "      <td>1537401600</td>\n",
       "      <td>NaN</td>\n",
       "      <td>NaN</td>\n",
       "      <td>NaN</td>\n",
       "    </tr>\n",
       "    <tr>\n",
       "      <th>20934355</th>\n",
       "      <td>5</td>\n",
       "      <td>True</td>\n",
       "      <td>09 11, 2018</td>\n",
       "      <td>A11C3NWD00G18B</td>\n",
       "      <td>B01G4SSSQ4</td>\n",
       "      <td>Jenny Geier</td>\n",
       "      <td>it works</td>\n",
       "      <td>it works</td>\n",
       "      <td>1536624000</td>\n",
       "      <td>NaN</td>\n",
       "      <td>NaN</td>\n",
       "      <td>NaN</td>\n",
       "    </tr>\n",
       "    <tr>\n",
       "      <th>20934356</th>\n",
       "      <td>5</td>\n",
       "      <td>True</td>\n",
       "      <td>08 29, 2018</td>\n",
       "      <td>A3L8IABFY9RHYL</td>\n",
       "      <td>B01G4SSSQ4</td>\n",
       "      <td>L.M.P. Downes</td>\n",
       "      <td>I ordered the power supply adapter so that I d...</td>\n",
       "      <td>It Works, Was Reasonably Priced and Arrived Pr...</td>\n",
       "      <td>1535500800</td>\n",
       "      <td>NaN</td>\n",
       "      <td>NaN</td>\n",
       "      <td>NaN</td>\n",
       "    </tr>\n",
       "    <tr>\n",
       "      <th>...</th>\n",
       "      <td>...</td>\n",
       "      <td>...</td>\n",
       "      <td>...</td>\n",
       "      <td>...</td>\n",
       "      <td>...</td>\n",
       "      <td>...</td>\n",
       "      <td>...</td>\n",
       "      <td>...</td>\n",
       "      <td>...</td>\n",
       "      <td>...</td>\n",
       "      <td>...</td>\n",
       "      <td>...</td>\n",
       "    </tr>\n",
       "    <tr>\n",
       "      <th>20994347</th>\n",
       "      <td>2</td>\n",
       "      <td>True</td>\n",
       "      <td>07 6, 2017</td>\n",
       "      <td>ANWNYOOYLACMT</td>\n",
       "      <td>B01HJF704M</td>\n",
       "      <td>Scott</td>\n",
       "      <td>Was advertised for all Operating Systems. Not ...</td>\n",
       "      <td>Shifty Eyes...</td>\n",
       "      <td>1499299200</td>\n",
       "      <td>NaN</td>\n",
       "      <td>NaN</td>\n",
       "      <td>NaN</td>\n",
       "    </tr>\n",
       "    <tr>\n",
       "      <th>20994348</th>\n",
       "      <td>1</td>\n",
       "      <td>True</td>\n",
       "      <td>04 29, 2017</td>\n",
       "      <td>A1RH0C7YHWZQER</td>\n",
       "      <td>B01HJF704M</td>\n",
       "      <td>Randy Garmire</td>\n",
       "      <td>Had it 1 day and it quit working, will be retu...</td>\n",
       "      <td>JUNK</td>\n",
       "      <td>1493424000</td>\n",
       "      <td>NaN</td>\n",
       "      <td>NaN</td>\n",
       "      <td>NaN</td>\n",
       "    </tr>\n",
       "    <tr>\n",
       "      <th>20994349</th>\n",
       "      <td>5</td>\n",
       "      <td>True</td>\n",
       "      <td>04 17, 2017</td>\n",
       "      <td>A2955VBJEJZ4S</td>\n",
       "      <td>B01HJF704M</td>\n",
       "      <td>BJN</td>\n",
       "      <td>Received item in 2 days. Product worked as adv...</td>\n",
       "      <td>Instructions easy and clear</td>\n",
       "      <td>1492387200</td>\n",
       "      <td>NaN</td>\n",
       "      <td>NaN</td>\n",
       "      <td>NaN</td>\n",
       "    </tr>\n",
       "    <tr>\n",
       "      <th>20994350</th>\n",
       "      <td>5</td>\n",
       "      <td>True</td>\n",
       "      <td>03 31, 2017</td>\n",
       "      <td>A1FGCIRPRNZWD5</td>\n",
       "      <td>B01HJF704M</td>\n",
       "      <td>Brando</td>\n",
       "      <td>I have it plugged into a usb extension on my g...</td>\n",
       "      <td>Works well enough..</td>\n",
       "      <td>1490918400</td>\n",
       "      <td>NaN</td>\n",
       "      <td>NaN</td>\n",
       "      <td>NaN</td>\n",
       "    </tr>\n",
       "    <tr>\n",
       "      <th>20994351</th>\n",
       "      <td>5</td>\n",
       "      <td>True</td>\n",
       "      <td>02 16, 2017</td>\n",
       "      <td>AOEG7L8HI8DXJ</td>\n",
       "      <td>B01HJF704M</td>\n",
       "      <td>Mack</td>\n",
       "      <td>Fast delivery product was simple to use</td>\n",
       "      <td>Good product</td>\n",
       "      <td>1487203200</td>\n",
       "      <td>NaN</td>\n",
       "      <td>NaN</td>\n",
       "      <td>NaN</td>\n",
       "    </tr>\n",
       "  </tbody>\n",
       "</table>\n",
       "<p>60000 rows × 12 columns</p>\n",
       "</div>"
      ],
      "text/plain": [
       "          overall  verified   reviewTime      reviewerID        asin  \\\n",
       "20934352        4      True  09 20, 2018  A3G95RJJ51WD8H  B01G4SSSQ4   \n",
       "20934353        5      True  09 20, 2018   A4OOB8NOIYJWF  B01G4SSSQ4   \n",
       "20934354        1      True  09 20, 2018  A2X416AYFNXNUV  B01G4SSSQ4   \n",
       "20934355        5      True  09 11, 2018  A11C3NWD00G18B  B01G4SSSQ4   \n",
       "20934356        5      True  08 29, 2018  A3L8IABFY9RHYL  B01G4SSSQ4   \n",
       "...           ...       ...          ...             ...         ...   \n",
       "20994347        2      True   07 6, 2017   ANWNYOOYLACMT  B01HJF704M   \n",
       "20994348        1      True  04 29, 2017  A1RH0C7YHWZQER  B01HJF704M   \n",
       "20994349        5      True  04 17, 2017   A2955VBJEJZ4S  B01HJF704M   \n",
       "20994350        5      True  03 31, 2017  A1FGCIRPRNZWD5  B01HJF704M   \n",
       "20994351        5      True  02 16, 2017   AOEG7L8HI8DXJ  B01HJF704M   \n",
       "\n",
       "           reviewerName                                         reviewText  \\\n",
       "20934352   Omar Cortina  Charges without issues. Works great with my HP...   \n",
       "20934353     Huascar G.  Fast Shipping and excelent Product Quality, Th...   \n",
       "20934354   John De Mott  Didn't charge laptop, feels incredibly light a...   \n",
       "20934355    Jenny Geier                                           it works   \n",
       "20934356  L.M.P. Downes  I ordered the power supply adapter so that I d...   \n",
       "...                 ...                                                ...   \n",
       "20994347          Scott  Was advertised for all Operating Systems. Not ...   \n",
       "20994348  Randy Garmire  Had it 1 day and it quit working, will be retu...   \n",
       "20994349            BJN  Received item in 2 days. Product worked as adv...   \n",
       "20994350         Brando  I have it plugged into a usb extension on my g...   \n",
       "20994351           Mack            Fast delivery product was simple to use   \n",
       "\n",
       "                                                    summary  unixReviewTime  \\\n",
       "20934352                  Works great for my HP Revolve 810      1537401600   \n",
       "20934353  Fast Shipping and excelent Product Quality, Th...      1537401600   \n",
       "20934354           Sparked when I plugged in, didn't charge      1537401600   \n",
       "20934355                                           it works      1536624000   \n",
       "20934356  It Works, Was Reasonably Priced and Arrived Pr...      1535500800   \n",
       "...                                                     ...             ...   \n",
       "20994347                                     Shifty Eyes...      1499299200   \n",
       "20994348                                               JUNK      1493424000   \n",
       "20994349                        Instructions easy and clear      1492387200   \n",
       "20994350                                Works well enough..      1490918400   \n",
       "20994351                                       Good product      1487203200   \n",
       "\n",
       "         style  vote                                              image  \n",
       "20934352   NaN   NaN  [https://images-na.ssl-images-amazon.com/image...  \n",
       "20934353   NaN   NaN                                                NaN  \n",
       "20934354   NaN   NaN                                                NaN  \n",
       "20934355   NaN   NaN                                                NaN  \n",
       "20934356   NaN   NaN                                                NaN  \n",
       "...        ...   ...                                                ...  \n",
       "20994347   NaN   NaN                                                NaN  \n",
       "20994348   NaN   NaN                                                NaN  \n",
       "20994349   NaN   NaN                                                NaN  \n",
       "20994350   NaN   NaN                                                NaN  \n",
       "20994351   NaN   NaN                                                NaN  \n",
       "\n",
       "[60000 rows x 12 columns]"
      ]
     },
     "execution_count": 33,
     "metadata": {},
     "output_type": "execute_result"
    }
   ],
   "source": [
    "cur"
   ]
  },
  {
   "cell_type": "code",
   "execution_count": 32,
   "metadata": {},
   "outputs": [
    {
     "data": {
      "text/html": [
       "<div>\n",
       "<style scoped>\n",
       "    .dataframe tbody tr th:only-of-type {\n",
       "        vertical-align: middle;\n",
       "    }\n",
       "\n",
       "    .dataframe tbody tr th {\n",
       "        vertical-align: top;\n",
       "    }\n",
       "\n",
       "    .dataframe thead th {\n",
       "        text-align: right;\n",
       "    }\n",
       "</style>\n",
       "<table border=\"1\" class=\"dataframe\">\n",
       "  <thead>\n",
       "    <tr style=\"text-align: right;\">\n",
       "      <th></th>\n",
       "      <th>overall</th>\n",
       "      <th>verified</th>\n",
       "      <th>reviewTime</th>\n",
       "      <th>reviewerID</th>\n",
       "      <th>asin</th>\n",
       "      <th>reviewerName</th>\n",
       "      <th>reviewText</th>\n",
       "      <th>summary</th>\n",
       "      <th>unixReviewTime</th>\n",
       "      <th>style</th>\n",
       "      <th>vote</th>\n",
       "      <th>image</th>\n",
       "    </tr>\n",
       "  </thead>\n",
       "  <tbody>\n",
       "    <tr>\n",
       "      <th>19301000</th>\n",
       "      <td>1</td>\n",
       "      <td>True</td>\n",
       "      <td>03 27, 2016</td>\n",
       "      <td>A97BEF1IPTMJU</td>\n",
       "      <td>B00F3T2M0E</td>\n",
       "      <td>Amazon Customer</td>\n",
       "      <td>Arrived earlier than expected. Works perfectly</td>\n",
       "      <td>Five Stars</td>\n",
       "      <td>1459036800</td>\n",
       "      <td>NaN</td>\n",
       "      <td>NaN</td>\n",
       "      <td>NaN</td>\n",
       "    </tr>\n",
       "    <tr>\n",
       "      <th>19301001</th>\n",
       "      <td>1</td>\n",
       "      <td>True</td>\n",
       "      <td>03 22, 2016</td>\n",
       "      <td>A323CYTXKNMO6L</td>\n",
       "      <td>B00F3T2M0E</td>\n",
       "      <td>Amazon Customer</td>\n",
       "      <td>Stopped working after only a few days.</td>\n",
       "      <td>Two Stars</td>\n",
       "      <td>1458604800</td>\n",
       "      <td>NaN</td>\n",
       "      <td>NaN</td>\n",
       "      <td>NaN</td>\n",
       "    </tr>\n",
       "    <tr>\n",
       "      <th>19301002</th>\n",
       "      <td>1</td>\n",
       "      <td>True</td>\n",
       "      <td>03 19, 2015</td>\n",
       "      <td>A2HOINCTFDVWBU</td>\n",
       "      <td>B006FRIWRK</td>\n",
       "      <td>GBEAN</td>\n",
       "      <td>Functionally very good.\\nThe rubber pad will d...</td>\n",
       "      <td>Functionally very good. The rubber pad will de...</td>\n",
       "      <td>1426723200</td>\n",
       "      <td>NaN</td>\n",
       "      <td>NaN</td>\n",
       "      <td>NaN</td>\n",
       "    </tr>\n",
       "    <tr>\n",
       "      <th>19301003</th>\n",
       "      <td>1</td>\n",
       "      <td>True</td>\n",
       "      <td>02 12, 2018</td>\n",
       "      <td>A1PFLPMEKOKQ35</td>\n",
       "      <td>B00F3T2FQA</td>\n",
       "      <td>UNKNOWN</td>\n",
       "      <td>perfect</td>\n",
       "      <td>Five Stars</td>\n",
       "      <td>1518393600</td>\n",
       "      <td>NaN</td>\n",
       "      <td>NaN</td>\n",
       "      <td>NaN</td>\n",
       "    </tr>\n",
       "    <tr>\n",
       "      <th>19301004</th>\n",
       "      <td>1</td>\n",
       "      <td>True</td>\n",
       "      <td>03 1, 2016</td>\n",
       "      <td>A3DLU1E85CTF7X</td>\n",
       "      <td>B00F3T2FQA</td>\n",
       "      <td>DH</td>\n",
       "      <td>Works</td>\n",
       "      <td>Five Stars</td>\n",
       "      <td>1456790400</td>\n",
       "      <td>NaN</td>\n",
       "      <td>NaN</td>\n",
       "      <td>NaN</td>\n",
       "    </tr>\n",
       "    <tr>\n",
       "      <th>...</th>\n",
       "      <td>...</td>\n",
       "      <td>...</td>\n",
       "      <td>...</td>\n",
       "      <td>...</td>\n",
       "      <td>...</td>\n",
       "      <td>...</td>\n",
       "      <td>...</td>\n",
       "      <td>...</td>\n",
       "      <td>...</td>\n",
       "      <td>...</td>\n",
       "      <td>...</td>\n",
       "      <td>...</td>\n",
       "    </tr>\n",
       "    <tr>\n",
       "      <th>20994348</th>\n",
       "      <td>1</td>\n",
       "      <td>True</td>\n",
       "      <td>04 29, 2017</td>\n",
       "      <td>A1RH0C7YHWZQER</td>\n",
       "      <td>B01HJF704M</td>\n",
       "      <td>Randy Garmire</td>\n",
       "      <td>Had it 1 day and it quit working, will be retu...</td>\n",
       "      <td>JUNK</td>\n",
       "      <td>1493424000</td>\n",
       "      <td>NaN</td>\n",
       "      <td>NaN</td>\n",
       "      <td>NaN</td>\n",
       "    </tr>\n",
       "    <tr>\n",
       "      <th>20994349</th>\n",
       "      <td>1</td>\n",
       "      <td>True</td>\n",
       "      <td>04 17, 2017</td>\n",
       "      <td>A2955VBJEJZ4S</td>\n",
       "      <td>B01HJF704M</td>\n",
       "      <td>BJN</td>\n",
       "      <td>Received item in 2 days. Product worked as adv...</td>\n",
       "      <td>Instructions easy and clear</td>\n",
       "      <td>1492387200</td>\n",
       "      <td>NaN</td>\n",
       "      <td>NaN</td>\n",
       "      <td>NaN</td>\n",
       "    </tr>\n",
       "    <tr>\n",
       "      <th>20994350</th>\n",
       "      <td>1</td>\n",
       "      <td>True</td>\n",
       "      <td>03 31, 2017</td>\n",
       "      <td>A1FGCIRPRNZWD5</td>\n",
       "      <td>B01HJF704M</td>\n",
       "      <td>Brando</td>\n",
       "      <td>I have it plugged into a usb extension on my g...</td>\n",
       "      <td>Works well enough..</td>\n",
       "      <td>1490918400</td>\n",
       "      <td>NaN</td>\n",
       "      <td>NaN</td>\n",
       "      <td>NaN</td>\n",
       "    </tr>\n",
       "    <tr>\n",
       "      <th>20994351</th>\n",
       "      <td>1</td>\n",
       "      <td>True</td>\n",
       "      <td>02 16, 2017</td>\n",
       "      <td>AOEG7L8HI8DXJ</td>\n",
       "      <td>B01HJF704M</td>\n",
       "      <td>Mack</td>\n",
       "      <td>Fast delivery product was simple to use</td>\n",
       "      <td>Good product</td>\n",
       "      <td>1487203200</td>\n",
       "      <td>NaN</td>\n",
       "      <td>NaN</td>\n",
       "      <td>NaN</td>\n",
       "    </tr>\n",
       "    <tr>\n",
       "      <th>20994352</th>\n",
       "      <td>1</td>\n",
       "      <td>True</td>\n",
       "      <td>02 11, 2017</td>\n",
       "      <td>A1BXCUK9AT7KWG</td>\n",
       "      <td>B01HJF704M</td>\n",
       "      <td>Clancy</td>\n",
       "      <td>Working as advertised, so far no problems.</td>\n",
       "      <td>Five Stars</td>\n",
       "      <td>1486771200</td>\n",
       "      <td>NaN</td>\n",
       "      <td>NaN</td>\n",
       "      <td>NaN</td>\n",
       "    </tr>\n",
       "  </tbody>\n",
       "</table>\n",
       "<p>1693353 rows × 12 columns</p>\n",
       "</div>"
      ],
      "text/plain": [
       "          overall  verified   reviewTime      reviewerID        asin  \\\n",
       "19301000        1      True  03 27, 2016   A97BEF1IPTMJU  B00F3T2M0E   \n",
       "19301001        1      True  03 22, 2016  A323CYTXKNMO6L  B00F3T2M0E   \n",
       "19301002        1      True  03 19, 2015  A2HOINCTFDVWBU  B006FRIWRK   \n",
       "19301003        1      True  02 12, 2018  A1PFLPMEKOKQ35  B00F3T2FQA   \n",
       "19301004        1      True   03 1, 2016  A3DLU1E85CTF7X  B00F3T2FQA   \n",
       "...           ...       ...          ...             ...         ...   \n",
       "20994348        1      True  04 29, 2017  A1RH0C7YHWZQER  B01HJF704M   \n",
       "20994349        1      True  04 17, 2017   A2955VBJEJZ4S  B01HJF704M   \n",
       "20994350        1      True  03 31, 2017  A1FGCIRPRNZWD5  B01HJF704M   \n",
       "20994351        1      True  02 16, 2017   AOEG7L8HI8DXJ  B01HJF704M   \n",
       "20994352        1      True  02 11, 2017  A1BXCUK9AT7KWG  B01HJF704M   \n",
       "\n",
       "             reviewerName                                         reviewText  \\\n",
       "19301000  Amazon Customer     Arrived earlier than expected. Works perfectly   \n",
       "19301001  Amazon Customer             Stopped working after only a few days.   \n",
       "19301002            GBEAN  Functionally very good.\\nThe rubber pad will d...   \n",
       "19301003          UNKNOWN                                            perfect   \n",
       "19301004               DH                                              Works   \n",
       "...                   ...                                                ...   \n",
       "20994348    Randy Garmire  Had it 1 day and it quit working, will be retu...   \n",
       "20994349              BJN  Received item in 2 days. Product worked as adv...   \n",
       "20994350           Brando  I have it plugged into a usb extension on my g...   \n",
       "20994351             Mack            Fast delivery product was simple to use   \n",
       "20994352           Clancy         Working as advertised, so far no problems.   \n",
       "\n",
       "                                                    summary  unixReviewTime  \\\n",
       "19301000                                         Five Stars      1459036800   \n",
       "19301001                                          Two Stars      1458604800   \n",
       "19301002  Functionally very good. The rubber pad will de...      1426723200   \n",
       "19301003                                         Five Stars      1518393600   \n",
       "19301004                                         Five Stars      1456790400   \n",
       "...                                                     ...             ...   \n",
       "20994348                                               JUNK      1493424000   \n",
       "20994349                        Instructions easy and clear      1492387200   \n",
       "20994350                                Works well enough..      1490918400   \n",
       "20994351                                       Good product      1487203200   \n",
       "20994352                                         Five Stars      1486771200   \n",
       "\n",
       "         style  vote image  \n",
       "19301000   NaN   NaN   NaN  \n",
       "19301001   NaN   NaN   NaN  \n",
       "19301002   NaN   NaN   NaN  \n",
       "19301003   NaN   NaN   NaN  \n",
       "19301004   NaN   NaN   NaN  \n",
       "...        ...   ...   ...  \n",
       "20994348   NaN   NaN   NaN  \n",
       "20994349   NaN   NaN   NaN  \n",
       "20994350   NaN   NaN   NaN  \n",
       "20994351   NaN   NaN   NaN  \n",
       "20994352   NaN   NaN   NaN  \n",
       "\n",
       "[1693353 rows x 12 columns]"
      ]
     },
     "execution_count": 32,
     "metadata": {},
     "output_type": "execute_result"
    }
   ],
   "source": [
    "saved"
   ]
  },
  {
   "cell_type": "code",
   "execution_count": 43,
   "metadata": {},
   "outputs": [],
   "source": [
    "cur.loc[cur[\"overall\"] < 3, \"overall\"] = 1\n",
    "cur.loc[cur[\"overall\"] > 3, \"overall\"] = 2\n"
   ]
  },
  {
   "cell_type": "code",
   "execution_count": 110,
   "metadata": {},
   "outputs": [
    {
     "data": {
      "text/html": [
       "<div>\n",
       "<style scoped>\n",
       "    .dataframe tbody tr th:only-of-type {\n",
       "        vertical-align: middle;\n",
       "    }\n",
       "\n",
       "    .dataframe tbody tr th {\n",
       "        vertical-align: top;\n",
       "    }\n",
       "\n",
       "    .dataframe thead th {\n",
       "        text-align: right;\n",
       "    }\n",
       "</style>\n",
       "<table border=\"1\" class=\"dataframe\">\n",
       "  <thead>\n",
       "    <tr style=\"text-align: right;\">\n",
       "      <th></th>\n",
       "      <th>overall</th>\n",
       "      <th>verified</th>\n",
       "      <th>reviewTime</th>\n",
       "      <th>reviewerID</th>\n",
       "      <th>asin</th>\n",
       "      <th>reviewerName</th>\n",
       "      <th>reviewText</th>\n",
       "      <th>summary</th>\n",
       "      <th>unixReviewTime</th>\n",
       "      <th>vote</th>\n",
       "      <th>style</th>\n",
       "      <th>image</th>\n",
       "    </tr>\n",
       "  </thead>\n",
       "  <tbody>\n",
       "    <tr>\n",
       "      <th>20934352</th>\n",
       "      <td>2</td>\n",
       "      <td>True</td>\n",
       "      <td>09 20, 2018</td>\n",
       "      <td>A3G95RJJ51WD8H</td>\n",
       "      <td>B01G4SSSQ4</td>\n",
       "      <td>Omar Cortina</td>\n",
       "      <td>Charges without issues. Works great with my HP...</td>\n",
       "      <td>Works great for my HP Revolve 810</td>\n",
       "      <td>1537401600</td>\n",
       "      <td>NaN</td>\n",
       "      <td>NaN</td>\n",
       "      <td>[https://images-na.ssl-images-amazon.com/image...</td>\n",
       "    </tr>\n",
       "    <tr>\n",
       "      <th>20934353</th>\n",
       "      <td>2</td>\n",
       "      <td>True</td>\n",
       "      <td>09 20, 2018</td>\n",
       "      <td>A4OOB8NOIYJWF</td>\n",
       "      <td>B01G4SSSQ4</td>\n",
       "      <td>Huascar G.</td>\n",
       "      <td>Fast Shipping and excelent Product Quality, Th...</td>\n",
       "      <td>Fast Shipping and excelent Product Quality, Th...</td>\n",
       "      <td>1537401600</td>\n",
       "      <td>NaN</td>\n",
       "      <td>NaN</td>\n",
       "      <td>NaN</td>\n",
       "    </tr>\n",
       "    <tr>\n",
       "      <th>20934354</th>\n",
       "      <td>1</td>\n",
       "      <td>True</td>\n",
       "      <td>09 20, 2018</td>\n",
       "      <td>A2X416AYFNXNUV</td>\n",
       "      <td>B01G4SSSQ4</td>\n",
       "      <td>John De Mott</td>\n",
       "      <td>Didn't charge laptop, feels incredibly light a...</td>\n",
       "      <td>Sparked when I plugged in, didn't charge</td>\n",
       "      <td>1537401600</td>\n",
       "      <td>NaN</td>\n",
       "      <td>NaN</td>\n",
       "      <td>NaN</td>\n",
       "    </tr>\n",
       "    <tr>\n",
       "      <th>20934355</th>\n",
       "      <td>2</td>\n",
       "      <td>True</td>\n",
       "      <td>09 11, 2018</td>\n",
       "      <td>A11C3NWD00G18B</td>\n",
       "      <td>B01G4SSSQ4</td>\n",
       "      <td>Jenny Geier</td>\n",
       "      <td>it works</td>\n",
       "      <td>it works</td>\n",
       "      <td>1536624000</td>\n",
       "      <td>NaN</td>\n",
       "      <td>NaN</td>\n",
       "      <td>NaN</td>\n",
       "    </tr>\n",
       "    <tr>\n",
       "      <th>20934356</th>\n",
       "      <td>2</td>\n",
       "      <td>True</td>\n",
       "      <td>08 29, 2018</td>\n",
       "      <td>A3L8IABFY9RHYL</td>\n",
       "      <td>B01G4SSSQ4</td>\n",
       "      <td>L.M.P. Downes</td>\n",
       "      <td>I ordered the power supply adapter so that I d...</td>\n",
       "      <td>It Works, Was Reasonably Priced and Arrived Pr...</td>\n",
       "      <td>1535500800</td>\n",
       "      <td>NaN</td>\n",
       "      <td>NaN</td>\n",
       "      <td>NaN</td>\n",
       "    </tr>\n",
       "    <tr>\n",
       "      <th>...</th>\n",
       "      <td>...</td>\n",
       "      <td>...</td>\n",
       "      <td>...</td>\n",
       "      <td>...</td>\n",
       "      <td>...</td>\n",
       "      <td>...</td>\n",
       "      <td>...</td>\n",
       "      <td>...</td>\n",
       "      <td>...</td>\n",
       "      <td>...</td>\n",
       "      <td>...</td>\n",
       "      <td>...</td>\n",
       "    </tr>\n",
       "    <tr>\n",
       "      <th>20994347</th>\n",
       "      <td>1</td>\n",
       "      <td>True</td>\n",
       "      <td>07 6, 2017</td>\n",
       "      <td>ANWNYOOYLACMT</td>\n",
       "      <td>B01HJF704M</td>\n",
       "      <td>Scott</td>\n",
       "      <td>Was advertised for all Operating Systems. Not ...</td>\n",
       "      <td>Shifty Eyes...</td>\n",
       "      <td>1499299200</td>\n",
       "      <td>NaN</td>\n",
       "      <td>NaN</td>\n",
       "      <td>NaN</td>\n",
       "    </tr>\n",
       "    <tr>\n",
       "      <th>20994348</th>\n",
       "      <td>1</td>\n",
       "      <td>True</td>\n",
       "      <td>04 29, 2017</td>\n",
       "      <td>A1RH0C7YHWZQER</td>\n",
       "      <td>B01HJF704M</td>\n",
       "      <td>Randy Garmire</td>\n",
       "      <td>Had it 1 day and it quit working, will be retu...</td>\n",
       "      <td>JUNK</td>\n",
       "      <td>1493424000</td>\n",
       "      <td>NaN</td>\n",
       "      <td>NaN</td>\n",
       "      <td>NaN</td>\n",
       "    </tr>\n",
       "    <tr>\n",
       "      <th>20994349</th>\n",
       "      <td>2</td>\n",
       "      <td>True</td>\n",
       "      <td>04 17, 2017</td>\n",
       "      <td>A2955VBJEJZ4S</td>\n",
       "      <td>B01HJF704M</td>\n",
       "      <td>BJN</td>\n",
       "      <td>Received item in 2 days. Product worked as adv...</td>\n",
       "      <td>Instructions easy and clear</td>\n",
       "      <td>1492387200</td>\n",
       "      <td>NaN</td>\n",
       "      <td>NaN</td>\n",
       "      <td>NaN</td>\n",
       "    </tr>\n",
       "    <tr>\n",
       "      <th>20994350</th>\n",
       "      <td>2</td>\n",
       "      <td>True</td>\n",
       "      <td>03 31, 2017</td>\n",
       "      <td>A1FGCIRPRNZWD5</td>\n",
       "      <td>B01HJF704M</td>\n",
       "      <td>Brando</td>\n",
       "      <td>I have it plugged into a usb extension on my g...</td>\n",
       "      <td>Works well enough..</td>\n",
       "      <td>1490918400</td>\n",
       "      <td>NaN</td>\n",
       "      <td>NaN</td>\n",
       "      <td>NaN</td>\n",
       "    </tr>\n",
       "    <tr>\n",
       "      <th>20994351</th>\n",
       "      <td>2</td>\n",
       "      <td>True</td>\n",
       "      <td>02 16, 2017</td>\n",
       "      <td>AOEG7L8HI8DXJ</td>\n",
       "      <td>B01HJF704M</td>\n",
       "      <td>Mack</td>\n",
       "      <td>Fast delivery product was simple to use</td>\n",
       "      <td>Good product</td>\n",
       "      <td>1487203200</td>\n",
       "      <td>NaN</td>\n",
       "      <td>NaN</td>\n",
       "      <td>NaN</td>\n",
       "    </tr>\n",
       "  </tbody>\n",
       "</table>\n",
       "<p>60000 rows × 12 columns</p>\n",
       "</div>"
      ],
      "text/plain": [
       "          overall  verified   reviewTime      reviewerID        asin  \\\n",
       "20934352        2      True  09 20, 2018  A3G95RJJ51WD8H  B01G4SSSQ4   \n",
       "20934353        2      True  09 20, 2018   A4OOB8NOIYJWF  B01G4SSSQ4   \n",
       "20934354        1      True  09 20, 2018  A2X416AYFNXNUV  B01G4SSSQ4   \n",
       "20934355        2      True  09 11, 2018  A11C3NWD00G18B  B01G4SSSQ4   \n",
       "20934356        2      True  08 29, 2018  A3L8IABFY9RHYL  B01G4SSSQ4   \n",
       "...           ...       ...          ...             ...         ...   \n",
       "20994347        1      True   07 6, 2017   ANWNYOOYLACMT  B01HJF704M   \n",
       "20994348        1      True  04 29, 2017  A1RH0C7YHWZQER  B01HJF704M   \n",
       "20994349        2      True  04 17, 2017   A2955VBJEJZ4S  B01HJF704M   \n",
       "20994350        2      True  03 31, 2017  A1FGCIRPRNZWD5  B01HJF704M   \n",
       "20994351        2      True  02 16, 2017   AOEG7L8HI8DXJ  B01HJF704M   \n",
       "\n",
       "           reviewerName                                         reviewText  \\\n",
       "20934352   Omar Cortina  Charges without issues. Works great with my HP...   \n",
       "20934353     Huascar G.  Fast Shipping and excelent Product Quality, Th...   \n",
       "20934354   John De Mott  Didn't charge laptop, feels incredibly light a...   \n",
       "20934355    Jenny Geier                                           it works   \n",
       "20934356  L.M.P. Downes  I ordered the power supply adapter so that I d...   \n",
       "...                 ...                                                ...   \n",
       "20994347          Scott  Was advertised for all Operating Systems. Not ...   \n",
       "20994348  Randy Garmire  Had it 1 day and it quit working, will be retu...   \n",
       "20994349            BJN  Received item in 2 days. Product worked as adv...   \n",
       "20994350         Brando  I have it plugged into a usb extension on my g...   \n",
       "20994351           Mack            Fast delivery product was simple to use   \n",
       "\n",
       "                                                    summary  unixReviewTime  \\\n",
       "20934352                  Works great for my HP Revolve 810      1537401600   \n",
       "20934353  Fast Shipping and excelent Product Quality, Th...      1537401600   \n",
       "20934354           Sparked when I plugged in, didn't charge      1537401600   \n",
       "20934355                                           it works      1536624000   \n",
       "20934356  It Works, Was Reasonably Priced and Arrived Pr...      1535500800   \n",
       "...                                                     ...             ...   \n",
       "20994347                                     Shifty Eyes...      1499299200   \n",
       "20994348                                               JUNK      1493424000   \n",
       "20994349                        Instructions easy and clear      1492387200   \n",
       "20994350                                Works well enough..      1490918400   \n",
       "20994351                                       Good product      1487203200   \n",
       "\n",
       "          vote style                                              image  \n",
       "20934352   NaN   NaN  [https://images-na.ssl-images-amazon.com/image...  \n",
       "20934353   NaN   NaN                                                NaN  \n",
       "20934354   NaN   NaN                                                NaN  \n",
       "20934355   NaN   NaN                                                NaN  \n",
       "20934356   NaN   NaN                                                NaN  \n",
       "...        ...   ...                                                ...  \n",
       "20994347   NaN   NaN                                                NaN  \n",
       "20994348   NaN   NaN                                                NaN  \n",
       "20994349   NaN   NaN                                                NaN  \n",
       "20994350   NaN   NaN                                                NaN  \n",
       "20994351   NaN   NaN                                                NaN  \n",
       "\n",
       "[60000 rows x 12 columns]"
      ]
     },
     "execution_count": 110,
     "metadata": {},
     "output_type": "execute_result"
    }
   ],
   "source": [
    "cur"
   ]
  },
  {
   "cell_type": "code",
   "execution_count": 117,
   "metadata": {},
   "outputs": [],
   "source": [
    "test = pd.DataFrame(zip(cur.overall[:5],cur.reviewText[:5]))\n",
    "test.columns = [\"rating\",\"text\"]"
   ]
  },
  {
   "cell_type": "code",
   "execution_count": 118,
   "metadata": {},
   "outputs": [
    {
     "data": {
      "text/html": [
       "<div>\n",
       "<style scoped>\n",
       "    .dataframe tbody tr th:only-of-type {\n",
       "        vertical-align: middle;\n",
       "    }\n",
       "\n",
       "    .dataframe tbody tr th {\n",
       "        vertical-align: top;\n",
       "    }\n",
       "\n",
       "    .dataframe thead th {\n",
       "        text-align: right;\n",
       "    }\n",
       "</style>\n",
       "<table border=\"1\" class=\"dataframe\">\n",
       "  <thead>\n",
       "    <tr style=\"text-align: right;\">\n",
       "      <th></th>\n",
       "      <th>rating</th>\n",
       "      <th>text</th>\n",
       "    </tr>\n",
       "  </thead>\n",
       "  <tbody>\n",
       "    <tr>\n",
       "      <th>0</th>\n",
       "      <td>2</td>\n",
       "      <td>Charges without issues. Works great with my HP...</td>\n",
       "    </tr>\n",
       "    <tr>\n",
       "      <th>1</th>\n",
       "      <td>2</td>\n",
       "      <td>Fast Shipping and excelent Product Quality, Th...</td>\n",
       "    </tr>\n",
       "    <tr>\n",
       "      <th>2</th>\n",
       "      <td>1</td>\n",
       "      <td>Didn't charge laptop, feels incredibly light a...</td>\n",
       "    </tr>\n",
       "    <tr>\n",
       "      <th>3</th>\n",
       "      <td>2</td>\n",
       "      <td>it works</td>\n",
       "    </tr>\n",
       "    <tr>\n",
       "      <th>4</th>\n",
       "      <td>2</td>\n",
       "      <td>I ordered the power supply adapter so that I d...</td>\n",
       "    </tr>\n",
       "  </tbody>\n",
       "</table>\n",
       "</div>"
      ],
      "text/plain": [
       "   rating                                               text\n",
       "0       2  Charges without issues. Works great with my HP...\n",
       "1       2  Fast Shipping and excelent Product Quality, Th...\n",
       "2       1  Didn't charge laptop, feels incredibly light a...\n",
       "3       2                                           it works\n",
       "4       2  I ordered the power supply adapter so that I d..."
      ]
     },
     "execution_count": 118,
     "metadata": {},
     "output_type": "execute_result"
    }
   ],
   "source": [
    "test"
   ]
  },
  {
   "cell_type": "code",
   "execution_count": 186,
   "metadata": {},
   "outputs": [],
   "source": [
    "import torch\n",
    "import torch.nn.functional as F\n",
    "from transformers import RobertaTokenizer, RobertaForMaskedLM\n",
    "tokenizer = RobertaTokenizer.from_pretrained(\"roberta-base\")\n",
    "model = RobertaForMaskedLM.from_pretrained(\"roberta-base\")"
   ]
  },
  {
   "cell_type": "code",
   "execution_count": 187,
   "metadata": {},
   "outputs": [],
   "source": [
    "model.save_pretrained(\"./\")"
   ]
  },
  {
   "cell_type": "code",
   "execution_count": 192,
   "metadata": {},
   "outputs": [],
   "source": [
    "model = RobertaForMaskedLM.from_pretrained(\"model/\")"
   ]
  },
  {
   "cell_type": "code",
   "execution_count": 309,
   "metadata": {},
   "outputs": [
    {
     "name": "stdout",
     "output_type": "stream",
     "text": [
      "Didn't charge laptop, feels incredibly light and shoddy\n",
      "tensor([[ 2.0909, -4.3024,  8.5324,  ..., -6.0261, -6.2077,  2.8349]])\n",
      "tensor([8.3754e-06, 1.4009e-08, 5.2544e-03,  ..., 2.4994e-09, 2.0844e-09,\n",
      "        1.7624e-05])\n",
      "[tensor([8.3754e-06, 1.4009e-08, 5.2544e-03,  ..., 2.4994e-09, 2.0844e-09,\n",
      "        1.7624e-05])]\n"
     ]
    }
   ],
   "source": [
    "sum_probs = []\n",
    "for i in test[test[\"rating\"] ==1].text:\n",
    "    print(i)\n",
    "    prompt = generate_prompt(\"aspect\",i,label = 'bad')\n",
    "    logits = generate_logits(prompt,tokenizer,model)\n",
    "    print(logits)\n",
    "    probabilities = F.softmax(logits,dim=-1)[0]\n",
    "    print(probabilities)\n",
    "    sum_probs.append(probabilities)\n",
    "    print(sum_probs)\n",
    "probability = torch.sum(torch.stack(sum_probs),dim=0)\n",
    "verbalizers = [quality,general,price,design,service]\n",
    "aspects = [\"quality\",\"general\",\"price\",\"design\",\"service\"]"
   ]
  },
  {
   "cell_type": "code",
   "execution_count": null,
   "metadata": {},
   "outputs": [],
   "source": []
  },
  {
   "cell_type": "code",
   "execution_count": 310,
   "metadata": {},
   "outputs": [],
   "source": [
    "import numpy as np\n",
    "def sort_tuple(tup): \n",
    "  \n",
    "    # reverse = None (Sorts in Ascending order) \n",
    "    # key is set to sort using second element of \n",
    "    # sublist lambda has been used \n",
    "    tup.sort(key = lambda x: x[1]) \n",
    "    return tup \n",
    "def conclude(results,aspects,overall = \"good\"):\n",
    "    best_aspect = np.argmax([result[-1][1] for result in results])\n",
    "    Top3 = [result[-1] for result in results]\n",
    "    print(Top3)\n",
    "    Top3 = [i[0] for i in sort_tuple(Top3)[-3:]]\n",
    "    if overall == \"good\":\n",
    "        return f\"Overall, your product's best aspect is {aspects[best_aspect]},people love these features with ascending likeness: {Top3}\"\n",
    "    else:\n",
    "        return f\"Overall, your product's not-so-good aspect is {aspects[best_aspect]},people didn't like these features with ascending dislikeness: {Top3}\"\n"
   ]
  },
  {
   "cell_type": "code",
   "execution_count": 307,
   "metadata": {},
   "outputs": [
    {
     "name": "stdout",
     "output_type": "stream",
     "text": [
      "[('quality', tensor(0.0026)), ('bad', tensor(0.0047)), ('price', tensor(0.0542)), ('design', tensor(0.0027)), ('packaging', tensor(0.0014))]\n"
     ]
    }
   ],
   "source": [
    "\n",
    "results = [sort_logit(verbalizer,probability) for verbalizer in verbalizers]\n",
    "results\n",
    "final_text = conclude(results,aspects,)"
   ]
  },
  {
   "cell_type": "code",
   "execution_count": 308,
   "metadata": {},
   "outputs": [
    {
     "data": {
      "text/plain": [
       "\"Overall, your product's best aspect is price,people love these features: ['design', 'bad', 'price']\""
      ]
     },
     "execution_count": 308,
     "metadata": {},
     "output_type": "execute_result"
    }
   ],
   "source": [
    "final_text"
   ]
  },
  {
   "cell_type": "code",
   "execution_count": 315,
   "metadata": {},
   "outputs": [],
   "source": [
    "scores = []\n",
    "for text in test.text:\n",
    "    score = []\n",
    "    for i in verbalizers:\n",
    "        prompt = generate_prompt(\"score\",text,target = i)\n",
    "        logits = generate_logits(prompt,tokenizer,model)\n",
    "        score.append(generate_rating(logits[0]))\n",
    "    scores.append(score)\n",
    "scores = np.array(scores).sum(axis=0)/10"
   ]
  },
  {
   "cell_type": "code",
   "execution_count": 317,
   "metadata": {},
   "outputs": [
    {
     "name": "stdout",
     "output_type": "stream",
     "text": [
      "[1.91463558 2.06313808 1.84642285 1.571164   1.97903387]\n"
     ]
    }
   ],
   "source": [
    "print(scores)"
   ]
  },
  {
   "cell_type": "code",
   "execution_count": 205,
   "metadata": {},
   "outputs": [],
   "source": [
    "a = [1,2]\n",
    "b = [3,4]"
   ]
  },
  {
   "cell_type": "code",
   "execution_count": 212,
   "metadata": {},
   "outputs": [
    {
     "name": "stdout",
     "output_type": "stream",
     "text": [
      "(1, 3)\n",
      "(2, 4)\n"
     ]
    }
   ],
   "source": [
    "for i in zip(a,b):\n",
    "    print(i)"
   ]
  },
  {
   "cell_type": "code",
   "execution_count": 208,
   "metadata": {},
   "outputs": [
    {
     "name": "stdout",
     "output_type": "stream",
     "text": [
      "<zip object at 0x000001A007FC93C0>\n"
     ]
    }
   ],
   "source": [
    "print(i)"
   ]
  },
  {
   "cell_type": "code",
   "execution_count": 179,
   "metadata": {},
   "outputs": [],
   "source": [
    "import plotly.express as px\n",
    "import pandas as pd\n",
    "\n"
   ]
  },
  {
   "cell_type": "code",
   "execution_count": 184,
   "metadata": {},
   "outputs": [
    {
     "data": {
      "application/vnd.plotly.v1+json": {
       "config": {
        "plotlyServerURL": "https://plot.ly"
       },
       "data": [
        {
         "fill": "toself",
         "hovertemplate": "r=%{r}<br>theta=%{theta}<extra></extra>",
         "legendgroup": "",
         "line": {
          "color": "#636efa",
          "dash": "solid"
         },
         "marker": {
          "symbol": "circle"
         },
         "mode": "lines",
         "name": "",
         "r": [
          2.4422880932688713,
          3.4038644582033157,
          3.348674051463604,
          1.9162903651595116,
          3.234288863837719,
          2.4422880932688713
         ],
         "showlegend": false,
         "subplot": "polar",
         "theta": [
          "quality",
          "general",
          "price",
          "design",
          "service",
          "quality"
         ],
         "type": "scatterpolar"
        }
       ],
       "layout": {
        "legend": {
         "tracegroupgap": 0
        },
        "margin": {
         "t": 60
        },
        "polar": {
         "angularaxis": {
          "direction": "clockwise",
          "rotation": 90
         },
         "domain": {
          "x": [
           0,
           1
          ],
          "y": [
           0,
           1
          ]
         },
         "radialaxis": {
          "range": [
           0,
           5
          ]
         }
        },
        "template": {
         "data": {
          "bar": [
           {
            "error_x": {
             "color": "#2a3f5f"
            },
            "error_y": {
             "color": "#2a3f5f"
            },
            "marker": {
             "line": {
              "color": "#E5ECF6",
              "width": 0.5
             },
             "pattern": {
              "fillmode": "overlay",
              "size": 10,
              "solidity": 0.2
             }
            },
            "type": "bar"
           }
          ],
          "barpolar": [
           {
            "marker": {
             "line": {
              "color": "#E5ECF6",
              "width": 0.5
             },
             "pattern": {
              "fillmode": "overlay",
              "size": 10,
              "solidity": 0.2
             }
            },
            "type": "barpolar"
           }
          ],
          "carpet": [
           {
            "aaxis": {
             "endlinecolor": "#2a3f5f",
             "gridcolor": "white",
             "linecolor": "white",
             "minorgridcolor": "white",
             "startlinecolor": "#2a3f5f"
            },
            "baxis": {
             "endlinecolor": "#2a3f5f",
             "gridcolor": "white",
             "linecolor": "white",
             "minorgridcolor": "white",
             "startlinecolor": "#2a3f5f"
            },
            "type": "carpet"
           }
          ],
          "choropleth": [
           {
            "colorbar": {
             "outlinewidth": 0,
             "ticks": ""
            },
            "type": "choropleth"
           }
          ],
          "contour": [
           {
            "colorbar": {
             "outlinewidth": 0,
             "ticks": ""
            },
            "colorscale": [
             [
              0,
              "#0d0887"
             ],
             [
              0.1111111111111111,
              "#46039f"
             ],
             [
              0.2222222222222222,
              "#7201a8"
             ],
             [
              0.3333333333333333,
              "#9c179e"
             ],
             [
              0.4444444444444444,
              "#bd3786"
             ],
             [
              0.5555555555555556,
              "#d8576b"
             ],
             [
              0.6666666666666666,
              "#ed7953"
             ],
             [
              0.7777777777777778,
              "#fb9f3a"
             ],
             [
              0.8888888888888888,
              "#fdca26"
             ],
             [
              1,
              "#f0f921"
             ]
            ],
            "type": "contour"
           }
          ],
          "contourcarpet": [
           {
            "colorbar": {
             "outlinewidth": 0,
             "ticks": ""
            },
            "type": "contourcarpet"
           }
          ],
          "heatmap": [
           {
            "colorbar": {
             "outlinewidth": 0,
             "ticks": ""
            },
            "colorscale": [
             [
              0,
              "#0d0887"
             ],
             [
              0.1111111111111111,
              "#46039f"
             ],
             [
              0.2222222222222222,
              "#7201a8"
             ],
             [
              0.3333333333333333,
              "#9c179e"
             ],
             [
              0.4444444444444444,
              "#bd3786"
             ],
             [
              0.5555555555555556,
              "#d8576b"
             ],
             [
              0.6666666666666666,
              "#ed7953"
             ],
             [
              0.7777777777777778,
              "#fb9f3a"
             ],
             [
              0.8888888888888888,
              "#fdca26"
             ],
             [
              1,
              "#f0f921"
             ]
            ],
            "type": "heatmap"
           }
          ],
          "heatmapgl": [
           {
            "colorbar": {
             "outlinewidth": 0,
             "ticks": ""
            },
            "colorscale": [
             [
              0,
              "#0d0887"
             ],
             [
              0.1111111111111111,
              "#46039f"
             ],
             [
              0.2222222222222222,
              "#7201a8"
             ],
             [
              0.3333333333333333,
              "#9c179e"
             ],
             [
              0.4444444444444444,
              "#bd3786"
             ],
             [
              0.5555555555555556,
              "#d8576b"
             ],
             [
              0.6666666666666666,
              "#ed7953"
             ],
             [
              0.7777777777777778,
              "#fb9f3a"
             ],
             [
              0.8888888888888888,
              "#fdca26"
             ],
             [
              1,
              "#f0f921"
             ]
            ],
            "type": "heatmapgl"
           }
          ],
          "histogram": [
           {
            "marker": {
             "pattern": {
              "fillmode": "overlay",
              "size": 10,
              "solidity": 0.2
             }
            },
            "type": "histogram"
           }
          ],
          "histogram2d": [
           {
            "colorbar": {
             "outlinewidth": 0,
             "ticks": ""
            },
            "colorscale": [
             [
              0,
              "#0d0887"
             ],
             [
              0.1111111111111111,
              "#46039f"
             ],
             [
              0.2222222222222222,
              "#7201a8"
             ],
             [
              0.3333333333333333,
              "#9c179e"
             ],
             [
              0.4444444444444444,
              "#bd3786"
             ],
             [
              0.5555555555555556,
              "#d8576b"
             ],
             [
              0.6666666666666666,
              "#ed7953"
             ],
             [
              0.7777777777777778,
              "#fb9f3a"
             ],
             [
              0.8888888888888888,
              "#fdca26"
             ],
             [
              1,
              "#f0f921"
             ]
            ],
            "type": "histogram2d"
           }
          ],
          "histogram2dcontour": [
           {
            "colorbar": {
             "outlinewidth": 0,
             "ticks": ""
            },
            "colorscale": [
             [
              0,
              "#0d0887"
             ],
             [
              0.1111111111111111,
              "#46039f"
             ],
             [
              0.2222222222222222,
              "#7201a8"
             ],
             [
              0.3333333333333333,
              "#9c179e"
             ],
             [
              0.4444444444444444,
              "#bd3786"
             ],
             [
              0.5555555555555556,
              "#d8576b"
             ],
             [
              0.6666666666666666,
              "#ed7953"
             ],
             [
              0.7777777777777778,
              "#fb9f3a"
             ],
             [
              0.8888888888888888,
              "#fdca26"
             ],
             [
              1,
              "#f0f921"
             ]
            ],
            "type": "histogram2dcontour"
           }
          ],
          "mesh3d": [
           {
            "colorbar": {
             "outlinewidth": 0,
             "ticks": ""
            },
            "type": "mesh3d"
           }
          ],
          "parcoords": [
           {
            "line": {
             "colorbar": {
              "outlinewidth": 0,
              "ticks": ""
             }
            },
            "type": "parcoords"
           }
          ],
          "pie": [
           {
            "automargin": true,
            "type": "pie"
           }
          ],
          "scatter": [
           {
            "marker": {
             "colorbar": {
              "outlinewidth": 0,
              "ticks": ""
             }
            },
            "type": "scatter"
           }
          ],
          "scatter3d": [
           {
            "line": {
             "colorbar": {
              "outlinewidth": 0,
              "ticks": ""
             }
            },
            "marker": {
             "colorbar": {
              "outlinewidth": 0,
              "ticks": ""
             }
            },
            "type": "scatter3d"
           }
          ],
          "scattercarpet": [
           {
            "marker": {
             "colorbar": {
              "outlinewidth": 0,
              "ticks": ""
             }
            },
            "type": "scattercarpet"
           }
          ],
          "scattergeo": [
           {
            "marker": {
             "colorbar": {
              "outlinewidth": 0,
              "ticks": ""
             }
            },
            "type": "scattergeo"
           }
          ],
          "scattergl": [
           {
            "marker": {
             "colorbar": {
              "outlinewidth": 0,
              "ticks": ""
             }
            },
            "type": "scattergl"
           }
          ],
          "scattermapbox": [
           {
            "marker": {
             "colorbar": {
              "outlinewidth": 0,
              "ticks": ""
             }
            },
            "type": "scattermapbox"
           }
          ],
          "scatterpolar": [
           {
            "marker": {
             "colorbar": {
              "outlinewidth": 0,
              "ticks": ""
             }
            },
            "type": "scatterpolar"
           }
          ],
          "scatterpolargl": [
           {
            "marker": {
             "colorbar": {
              "outlinewidth": 0,
              "ticks": ""
             }
            },
            "type": "scatterpolargl"
           }
          ],
          "scatterternary": [
           {
            "marker": {
             "colorbar": {
              "outlinewidth": 0,
              "ticks": ""
             }
            },
            "type": "scatterternary"
           }
          ],
          "surface": [
           {
            "colorbar": {
             "outlinewidth": 0,
             "ticks": ""
            },
            "colorscale": [
             [
              0,
              "#0d0887"
             ],
             [
              0.1111111111111111,
              "#46039f"
             ],
             [
              0.2222222222222222,
              "#7201a8"
             ],
             [
              0.3333333333333333,
              "#9c179e"
             ],
             [
              0.4444444444444444,
              "#bd3786"
             ],
             [
              0.5555555555555556,
              "#d8576b"
             ],
             [
              0.6666666666666666,
              "#ed7953"
             ],
             [
              0.7777777777777778,
              "#fb9f3a"
             ],
             [
              0.8888888888888888,
              "#fdca26"
             ],
             [
              1,
              "#f0f921"
             ]
            ],
            "type": "surface"
           }
          ],
          "table": [
           {
            "cells": {
             "fill": {
              "color": "#EBF0F8"
             },
             "line": {
              "color": "white"
             }
            },
            "header": {
             "fill": {
              "color": "#C8D4E3"
             },
             "line": {
              "color": "white"
             }
            },
            "type": "table"
           }
          ]
         },
         "layout": {
          "annotationdefaults": {
           "arrowcolor": "#2a3f5f",
           "arrowhead": 0,
           "arrowwidth": 1
          },
          "autotypenumbers": "strict",
          "coloraxis": {
           "colorbar": {
            "outlinewidth": 0,
            "ticks": ""
           }
          },
          "colorscale": {
           "diverging": [
            [
             0,
             "#8e0152"
            ],
            [
             0.1,
             "#c51b7d"
            ],
            [
             0.2,
             "#de77ae"
            ],
            [
             0.3,
             "#f1b6da"
            ],
            [
             0.4,
             "#fde0ef"
            ],
            [
             0.5,
             "#f7f7f7"
            ],
            [
             0.6,
             "#e6f5d0"
            ],
            [
             0.7,
             "#b8e186"
            ],
            [
             0.8,
             "#7fbc41"
            ],
            [
             0.9,
             "#4d9221"
            ],
            [
             1,
             "#276419"
            ]
           ],
           "sequential": [
            [
             0,
             "#0d0887"
            ],
            [
             0.1111111111111111,
             "#46039f"
            ],
            [
             0.2222222222222222,
             "#7201a8"
            ],
            [
             0.3333333333333333,
             "#9c179e"
            ],
            [
             0.4444444444444444,
             "#bd3786"
            ],
            [
             0.5555555555555556,
             "#d8576b"
            ],
            [
             0.6666666666666666,
             "#ed7953"
            ],
            [
             0.7777777777777778,
             "#fb9f3a"
            ],
            [
             0.8888888888888888,
             "#fdca26"
            ],
            [
             1,
             "#f0f921"
            ]
           ],
           "sequentialminus": [
            [
             0,
             "#0d0887"
            ],
            [
             0.1111111111111111,
             "#46039f"
            ],
            [
             0.2222222222222222,
             "#7201a8"
            ],
            [
             0.3333333333333333,
             "#9c179e"
            ],
            [
             0.4444444444444444,
             "#bd3786"
            ],
            [
             0.5555555555555556,
             "#d8576b"
            ],
            [
             0.6666666666666666,
             "#ed7953"
            ],
            [
             0.7777777777777778,
             "#fb9f3a"
            ],
            [
             0.8888888888888888,
             "#fdca26"
            ],
            [
             1,
             "#f0f921"
            ]
           ]
          },
          "colorway": [
           "#636efa",
           "#EF553B",
           "#00cc96",
           "#ab63fa",
           "#FFA15A",
           "#19d3f3",
           "#FF6692",
           "#B6E880",
           "#FF97FF",
           "#FECB52"
          ],
          "font": {
           "color": "#2a3f5f"
          },
          "geo": {
           "bgcolor": "white",
           "lakecolor": "white",
           "landcolor": "#E5ECF6",
           "showlakes": true,
           "showland": true,
           "subunitcolor": "white"
          },
          "hoverlabel": {
           "align": "left"
          },
          "hovermode": "closest",
          "mapbox": {
           "style": "light"
          },
          "paper_bgcolor": "white",
          "plot_bgcolor": "#E5ECF6",
          "polar": {
           "angularaxis": {
            "gridcolor": "white",
            "linecolor": "white",
            "ticks": ""
           },
           "bgcolor": "#E5ECF6",
           "radialaxis": {
            "gridcolor": "white",
            "linecolor": "white",
            "ticks": ""
           }
          },
          "scene": {
           "xaxis": {
            "backgroundcolor": "#E5ECF6",
            "gridcolor": "white",
            "gridwidth": 2,
            "linecolor": "white",
            "showbackground": true,
            "ticks": "",
            "zerolinecolor": "white"
           },
           "yaxis": {
            "backgroundcolor": "#E5ECF6",
            "gridcolor": "white",
            "gridwidth": 2,
            "linecolor": "white",
            "showbackground": true,
            "ticks": "",
            "zerolinecolor": "white"
           },
           "zaxis": {
            "backgroundcolor": "#E5ECF6",
            "gridcolor": "white",
            "gridwidth": 2,
            "linecolor": "white",
            "showbackground": true,
            "ticks": "",
            "zerolinecolor": "white"
           }
          },
          "shapedefaults": {
           "line": {
            "color": "#2a3f5f"
           }
          },
          "ternary": {
           "aaxis": {
            "gridcolor": "white",
            "linecolor": "white",
            "ticks": ""
           },
           "baxis": {
            "gridcolor": "white",
            "linecolor": "white",
            "ticks": ""
           },
           "bgcolor": "#E5ECF6",
           "caxis": {
            "gridcolor": "white",
            "linecolor": "white",
            "ticks": ""
           }
          },
          "title": {
           "x": 0.05
          },
          "xaxis": {
           "automargin": true,
           "gridcolor": "white",
           "linecolor": "white",
           "ticks": "",
           "title": {
            "standoff": 15
           },
           "zerolinecolor": "white",
           "zerolinewidth": 2
          },
          "yaxis": {
           "automargin": true,
           "gridcolor": "white",
           "linecolor": "white",
           "ticks": "",
           "title": {
            "standoff": 15
           },
           "zerolinecolor": "white",
           "zerolinewidth": 2
          }
         }
        }
       }
      },
      "text/html": [
       "<div>                            <div id=\"20b8d21c-d4ea-496a-ab08-7899f853ab44\" class=\"plotly-graph-div\" style=\"height:525px; width:100%;\"></div>            <script type=\"text/javascript\">                require([\"plotly\"], function(Plotly) {                    window.PLOTLYENV=window.PLOTLYENV || {};                                    if (document.getElementById(\"20b8d21c-d4ea-496a-ab08-7899f853ab44\")) {                    Plotly.newPlot(                        \"20b8d21c-d4ea-496a-ab08-7899f853ab44\",                        [{\"hovertemplate\":\"r=%{r}<br>theta=%{theta}<extra></extra>\",\"legendgroup\":\"\",\"line\":{\"color\":\"#636efa\",\"dash\":\"solid\"},\"marker\":{\"symbol\":\"circle\"},\"mode\":\"lines\",\"name\":\"\",\"r\":[2.4422880932688713,3.4038644582033157,3.348674051463604,1.9162903651595116,3.234288863837719,2.4422880932688713],\"showlegend\":false,\"subplot\":\"polar\",\"theta\":[\"quality\",\"general\",\"price\",\"design\",\"service\",\"quality\"],\"type\":\"scatterpolar\",\"fill\":\"toself\"}],                        {\"template\":{\"data\":{\"bar\":[{\"error_x\":{\"color\":\"#2a3f5f\"},\"error_y\":{\"color\":\"#2a3f5f\"},\"marker\":{\"line\":{\"color\":\"#E5ECF6\",\"width\":0.5},\"pattern\":{\"fillmode\":\"overlay\",\"size\":10,\"solidity\":0.2}},\"type\":\"bar\"}],\"barpolar\":[{\"marker\":{\"line\":{\"color\":\"#E5ECF6\",\"width\":0.5},\"pattern\":{\"fillmode\":\"overlay\",\"size\":10,\"solidity\":0.2}},\"type\":\"barpolar\"}],\"carpet\":[{\"aaxis\":{\"endlinecolor\":\"#2a3f5f\",\"gridcolor\":\"white\",\"linecolor\":\"white\",\"minorgridcolor\":\"white\",\"startlinecolor\":\"#2a3f5f\"},\"baxis\":{\"endlinecolor\":\"#2a3f5f\",\"gridcolor\":\"white\",\"linecolor\":\"white\",\"minorgridcolor\":\"white\",\"startlinecolor\":\"#2a3f5f\"},\"type\":\"carpet\"}],\"choropleth\":[{\"colorbar\":{\"outlinewidth\":0,\"ticks\":\"\"},\"type\":\"choropleth\"}],\"contour\":[{\"colorbar\":{\"outlinewidth\":0,\"ticks\":\"\"},\"colorscale\":[[0.0,\"#0d0887\"],[0.1111111111111111,\"#46039f\"],[0.2222222222222222,\"#7201a8\"],[0.3333333333333333,\"#9c179e\"],[0.4444444444444444,\"#bd3786\"],[0.5555555555555556,\"#d8576b\"],[0.6666666666666666,\"#ed7953\"],[0.7777777777777778,\"#fb9f3a\"],[0.8888888888888888,\"#fdca26\"],[1.0,\"#f0f921\"]],\"type\":\"contour\"}],\"contourcarpet\":[{\"colorbar\":{\"outlinewidth\":0,\"ticks\":\"\"},\"type\":\"contourcarpet\"}],\"heatmap\":[{\"colorbar\":{\"outlinewidth\":0,\"ticks\":\"\"},\"colorscale\":[[0.0,\"#0d0887\"],[0.1111111111111111,\"#46039f\"],[0.2222222222222222,\"#7201a8\"],[0.3333333333333333,\"#9c179e\"],[0.4444444444444444,\"#bd3786\"],[0.5555555555555556,\"#d8576b\"],[0.6666666666666666,\"#ed7953\"],[0.7777777777777778,\"#fb9f3a\"],[0.8888888888888888,\"#fdca26\"],[1.0,\"#f0f921\"]],\"type\":\"heatmap\"}],\"heatmapgl\":[{\"colorbar\":{\"outlinewidth\":0,\"ticks\":\"\"},\"colorscale\":[[0.0,\"#0d0887\"],[0.1111111111111111,\"#46039f\"],[0.2222222222222222,\"#7201a8\"],[0.3333333333333333,\"#9c179e\"],[0.4444444444444444,\"#bd3786\"],[0.5555555555555556,\"#d8576b\"],[0.6666666666666666,\"#ed7953\"],[0.7777777777777778,\"#fb9f3a\"],[0.8888888888888888,\"#fdca26\"],[1.0,\"#f0f921\"]],\"type\":\"heatmapgl\"}],\"histogram\":[{\"marker\":{\"pattern\":{\"fillmode\":\"overlay\",\"size\":10,\"solidity\":0.2}},\"type\":\"histogram\"}],\"histogram2d\":[{\"colorbar\":{\"outlinewidth\":0,\"ticks\":\"\"},\"colorscale\":[[0.0,\"#0d0887\"],[0.1111111111111111,\"#46039f\"],[0.2222222222222222,\"#7201a8\"],[0.3333333333333333,\"#9c179e\"],[0.4444444444444444,\"#bd3786\"],[0.5555555555555556,\"#d8576b\"],[0.6666666666666666,\"#ed7953\"],[0.7777777777777778,\"#fb9f3a\"],[0.8888888888888888,\"#fdca26\"],[1.0,\"#f0f921\"]],\"type\":\"histogram2d\"}],\"histogram2dcontour\":[{\"colorbar\":{\"outlinewidth\":0,\"ticks\":\"\"},\"colorscale\":[[0.0,\"#0d0887\"],[0.1111111111111111,\"#46039f\"],[0.2222222222222222,\"#7201a8\"],[0.3333333333333333,\"#9c179e\"],[0.4444444444444444,\"#bd3786\"],[0.5555555555555556,\"#d8576b\"],[0.6666666666666666,\"#ed7953\"],[0.7777777777777778,\"#fb9f3a\"],[0.8888888888888888,\"#fdca26\"],[1.0,\"#f0f921\"]],\"type\":\"histogram2dcontour\"}],\"mesh3d\":[{\"colorbar\":{\"outlinewidth\":0,\"ticks\":\"\"},\"type\":\"mesh3d\"}],\"parcoords\":[{\"line\":{\"colorbar\":{\"outlinewidth\":0,\"ticks\":\"\"}},\"type\":\"parcoords\"}],\"pie\":[{\"automargin\":true,\"type\":\"pie\"}],\"scatter\":[{\"marker\":{\"colorbar\":{\"outlinewidth\":0,\"ticks\":\"\"}},\"type\":\"scatter\"}],\"scatter3d\":[{\"line\":{\"colorbar\":{\"outlinewidth\":0,\"ticks\":\"\"}},\"marker\":{\"colorbar\":{\"outlinewidth\":0,\"ticks\":\"\"}},\"type\":\"scatter3d\"}],\"scattercarpet\":[{\"marker\":{\"colorbar\":{\"outlinewidth\":0,\"ticks\":\"\"}},\"type\":\"scattercarpet\"}],\"scattergeo\":[{\"marker\":{\"colorbar\":{\"outlinewidth\":0,\"ticks\":\"\"}},\"type\":\"scattergeo\"}],\"scattergl\":[{\"marker\":{\"colorbar\":{\"outlinewidth\":0,\"ticks\":\"\"}},\"type\":\"scattergl\"}],\"scattermapbox\":[{\"marker\":{\"colorbar\":{\"outlinewidth\":0,\"ticks\":\"\"}},\"type\":\"scattermapbox\"}],\"scatterpolar\":[{\"marker\":{\"colorbar\":{\"outlinewidth\":0,\"ticks\":\"\"}},\"type\":\"scatterpolar\"}],\"scatterpolargl\":[{\"marker\":{\"colorbar\":{\"outlinewidth\":0,\"ticks\":\"\"}},\"type\":\"scatterpolargl\"}],\"scatterternary\":[{\"marker\":{\"colorbar\":{\"outlinewidth\":0,\"ticks\":\"\"}},\"type\":\"scatterternary\"}],\"surface\":[{\"colorbar\":{\"outlinewidth\":0,\"ticks\":\"\"},\"colorscale\":[[0.0,\"#0d0887\"],[0.1111111111111111,\"#46039f\"],[0.2222222222222222,\"#7201a8\"],[0.3333333333333333,\"#9c179e\"],[0.4444444444444444,\"#bd3786\"],[0.5555555555555556,\"#d8576b\"],[0.6666666666666666,\"#ed7953\"],[0.7777777777777778,\"#fb9f3a\"],[0.8888888888888888,\"#fdca26\"],[1.0,\"#f0f921\"]],\"type\":\"surface\"}],\"table\":[{\"cells\":{\"fill\":{\"color\":\"#EBF0F8\"},\"line\":{\"color\":\"white\"}},\"header\":{\"fill\":{\"color\":\"#C8D4E3\"},\"line\":{\"color\":\"white\"}},\"type\":\"table\"}]},\"layout\":{\"annotationdefaults\":{\"arrowcolor\":\"#2a3f5f\",\"arrowhead\":0,\"arrowwidth\":1},\"autotypenumbers\":\"strict\",\"coloraxis\":{\"colorbar\":{\"outlinewidth\":0,\"ticks\":\"\"}},\"colorscale\":{\"diverging\":[[0,\"#8e0152\"],[0.1,\"#c51b7d\"],[0.2,\"#de77ae\"],[0.3,\"#f1b6da\"],[0.4,\"#fde0ef\"],[0.5,\"#f7f7f7\"],[0.6,\"#e6f5d0\"],[0.7,\"#b8e186\"],[0.8,\"#7fbc41\"],[0.9,\"#4d9221\"],[1,\"#276419\"]],\"sequential\":[[0.0,\"#0d0887\"],[0.1111111111111111,\"#46039f\"],[0.2222222222222222,\"#7201a8\"],[0.3333333333333333,\"#9c179e\"],[0.4444444444444444,\"#bd3786\"],[0.5555555555555556,\"#d8576b\"],[0.6666666666666666,\"#ed7953\"],[0.7777777777777778,\"#fb9f3a\"],[0.8888888888888888,\"#fdca26\"],[1.0,\"#f0f921\"]],\"sequentialminus\":[[0.0,\"#0d0887\"],[0.1111111111111111,\"#46039f\"],[0.2222222222222222,\"#7201a8\"],[0.3333333333333333,\"#9c179e\"],[0.4444444444444444,\"#bd3786\"],[0.5555555555555556,\"#d8576b\"],[0.6666666666666666,\"#ed7953\"],[0.7777777777777778,\"#fb9f3a\"],[0.8888888888888888,\"#fdca26\"],[1.0,\"#f0f921\"]]},\"colorway\":[\"#636efa\",\"#EF553B\",\"#00cc96\",\"#ab63fa\",\"#FFA15A\",\"#19d3f3\",\"#FF6692\",\"#B6E880\",\"#FF97FF\",\"#FECB52\"],\"font\":{\"color\":\"#2a3f5f\"},\"geo\":{\"bgcolor\":\"white\",\"lakecolor\":\"white\",\"landcolor\":\"#E5ECF6\",\"showlakes\":true,\"showland\":true,\"subunitcolor\":\"white\"},\"hoverlabel\":{\"align\":\"left\"},\"hovermode\":\"closest\",\"mapbox\":{\"style\":\"light\"},\"paper_bgcolor\":\"white\",\"plot_bgcolor\":\"#E5ECF6\",\"polar\":{\"angularaxis\":{\"gridcolor\":\"white\",\"linecolor\":\"white\",\"ticks\":\"\"},\"bgcolor\":\"#E5ECF6\",\"radialaxis\":{\"gridcolor\":\"white\",\"linecolor\":\"white\",\"ticks\":\"\"}},\"scene\":{\"xaxis\":{\"backgroundcolor\":\"#E5ECF6\",\"gridcolor\":\"white\",\"gridwidth\":2,\"linecolor\":\"white\",\"showbackground\":true,\"ticks\":\"\",\"zerolinecolor\":\"white\"},\"yaxis\":{\"backgroundcolor\":\"#E5ECF6\",\"gridcolor\":\"white\",\"gridwidth\":2,\"linecolor\":\"white\",\"showbackground\":true,\"ticks\":\"\",\"zerolinecolor\":\"white\"},\"zaxis\":{\"backgroundcolor\":\"#E5ECF6\",\"gridcolor\":\"white\",\"gridwidth\":2,\"linecolor\":\"white\",\"showbackground\":true,\"ticks\":\"\",\"zerolinecolor\":\"white\"}},\"shapedefaults\":{\"line\":{\"color\":\"#2a3f5f\"}},\"ternary\":{\"aaxis\":{\"gridcolor\":\"white\",\"linecolor\":\"white\",\"ticks\":\"\"},\"baxis\":{\"gridcolor\":\"white\",\"linecolor\":\"white\",\"ticks\":\"\"},\"bgcolor\":\"#E5ECF6\",\"caxis\":{\"gridcolor\":\"white\",\"linecolor\":\"white\",\"ticks\":\"\"}},\"title\":{\"x\":0.05},\"xaxis\":{\"automargin\":true,\"gridcolor\":\"white\",\"linecolor\":\"white\",\"ticks\":\"\",\"title\":{\"standoff\":15},\"zerolinecolor\":\"white\",\"zerolinewidth\":2},\"yaxis\":{\"automargin\":true,\"gridcolor\":\"white\",\"linecolor\":\"white\",\"ticks\":\"\",\"title\":{\"standoff\":15},\"zerolinecolor\":\"white\",\"zerolinewidth\":2}}},\"polar\":{\"domain\":{\"x\":[0.0,1.0],\"y\":[0.0,1.0]},\"angularaxis\":{\"direction\":\"clockwise\",\"rotation\":90},\"radialaxis\":{\"range\":[0,5]}},\"legend\":{\"tracegroupgap\":0},\"margin\":{\"t\":60}},                        {\"responsive\": true}                    ).then(function(){\n",
       "                            \n",
       "var gd = document.getElementById('20b8d21c-d4ea-496a-ab08-7899f853ab44');\n",
       "var x = new MutationObserver(function (mutations, observer) {{\n",
       "        var display = window.getComputedStyle(gd).display;\n",
       "        if (!display || display === 'none') {{\n",
       "            console.log([gd, 'removed!']);\n",
       "            Plotly.purge(gd);\n",
       "            observer.disconnect();\n",
       "        }}\n",
       "}});\n",
       "\n",
       "// Listen for the removal of the full notebook cells\n",
       "var notebookContainer = gd.closest('#notebook-container');\n",
       "if (notebookContainer) {{\n",
       "    x.observe(notebookContainer, {childList: true});\n",
       "}}\n",
       "\n",
       "// Listen for the clearing of the current output cell\n",
       "var outputEl = gd.closest('.output');\n",
       "if (outputEl) {{\n",
       "    x.observe(outputEl, {childList: true});\n",
       "}}\n",
       "\n",
       "                        })                };                });            </script>        </div>"
      ]
     },
     "metadata": {},
     "output_type": "display_data"
    }
   ],
   "source": [
    "import plotly.express as px\n",
    "graph = pd.DataFrame(dict(\n",
    "    r=scores,\n",
    "    theta=aspects))\n",
    "fig = px.line_polar(graph, r='r', theta='theta', line_close=True,range_r = (0,5))\n",
    "fig.update_traces(fill='toself')\n",
    "fig.write_html(\"test.html\")"
   ]
  },
  {
   "cell_type": "code",
   "execution_count": 173,
   "metadata": {},
   "outputs": [
    {
     "data": {
      "text/plain": [
       "[2.4422880932688713,\n",
       " 3.4038644582033157,\n",
       " 3.348674051463604,\n",
       " 1.9162903651595116,\n",
       " 3.234288863837719]"
      ]
     },
     "execution_count": 173,
     "metadata": {},
     "output_type": "execute_result"
    }
   ],
   "source": [
    "scores"
   ]
  },
  {
   "cell_type": "code",
   "execution_count": 136,
   "metadata": {},
   "outputs": [
    {
     "data": {
      "text/plain": [
       "\"Overall, your product's best aspect is quality,people love these features: ['material', 'product', 'quality']\""
      ]
     },
     "execution_count": 136,
     "metadata": {},
     "output_type": "execute_result"
    }
   ],
   "source": [
    "final_text"
   ]
  },
  {
   "cell_type": "code",
   "execution_count": 137,
   "metadata": {},
   "outputs": [
    {
     "data": {
      "text/plain": [
       "tensor([[37.8437, -3.5226, 45.9163,  ...,  0.2375,  1.6046, 25.9030]])"
      ]
     },
     "execution_count": 137,
     "metadata": {},
     "output_type": "execute_result"
    }
   ],
   "source": [
    "logits"
   ]
  },
  {
   "cell_type": "code",
   "execution_count": 152,
   "metadata": {},
   "outputs": [],
   "source": [
    "ratings = ['great','good','average','bad','terrible']\n",
    "rating_indices = [verbalize(i)[0] for i in ratings]\n",
    "rating_scores = np.array([5,4,3,2,1])"
   ]
  },
  {
   "cell_type": "code",
   "execution_count": 153,
   "metadata": {},
   "outputs": [],
   "source": [
    "def softmax(x):\n",
    "    return np.exp(x) / np.sum(np.exp(x),axis = 0)"
   ]
  },
  {
   "cell_type": "code",
   "execution_count": 151,
   "metadata": {},
   "outputs": [
    {
     "data": {
      "text/plain": [
       "array([3, 8])"
      ]
     },
     "execution_count": 151,
     "metadata": {},
     "output_type": "execute_result"
    }
   ],
   "source": [
    "np.array([1,2]) * np.array([3,4])"
   ]
  },
  {
   "cell_type": "code",
   "execution_count": 156,
   "metadata": {},
   "outputs": [],
   "source": [
    "def generate_rating(logits):\n",
    "    result = []\n",
    "    for index in rating_indices:\n",
    "        result.append(logits[index])\n",
    "    return np.sum(softmax(result) * rating_scores)"
   ]
  },
  {
   "cell_type": "code",
   "execution_count": 157,
   "metadata": {},
   "outputs": [
    {
     "data": {
      "text/plain": [
       "3.825812154565938"
      ]
     },
     "execution_count": 157,
     "metadata": {},
     "output_type": "execute_result"
    }
   ],
   "source": [
    "generate_rating(logits[0])"
   ]
  },
  {
   "cell_type": "code",
   "execution_count": 33,
   "metadata": {},
   "outputs": [],
   "source": [
    "quality = ['product','quality','expectation',\n",
    "           'material','broke','flaw','advertised',\n",
    "           'durable','year']\n",
    "general = ['overall','great','good','perfect',\n",
    "           'bad','complaints','recommended',\n",
    "           'love','awesome']\n",
    "price = ['price','cheap','expensive','value',\n",
    "         'afford','cost']\n",
    "design = ['looks','small','large','beautiful',\n",
    "          'design','disgusting']\n",
    "service = ['service','replacement','quick',\n",
    "           'return','delivery','packaging']"
   ]
  },
  {
   "cell_type": "code",
   "execution_count": 34,
   "metadata": {},
   "outputs": [],
   "source": [
    "aspects = [quality,general,price,comments,experience]\n",
    "verbalizers =[\"quality\",\"general\",\"price\",\"comments\",\"experience\"]"
   ]
  },
  {
   "cell_type": "code",
   "execution_count": 123,
   "metadata": {},
   "outputs": [],
   "source": [
    "def generate_logits(prompt,tokenizer,model):\n",
    "    inputs = tokenizer(prompt,return_tensors=\"pt\",padding=True)\n",
    "    with torch.no_grad():\n",
    "        output = model(**inputs)\n",
    "        logits = output.logits\n",
    "    mask_index = (inputs.input_ids[0] == tokenizer.mask_token_id).nonzero(as_tuple=False)\n",
    "    predicted_logit = logits[0][mask_index][0]\n",
    "    #print(predicted_logit)\n",
    "    return predicted_logit"
   ]
  },
  {
   "cell_type": "code",
   "execution_count": 289,
   "metadata": {},
   "outputs": [],
   "source": [
    "def generate_prompt(usage, text,mask=\"<mask>\",label = \"good\",target = \"quality\"):\n",
    "    prompts = {\n",
    "            \"aspect\": {\n",
    "                \"good\" : f\"{text}. Overall, customer like this product because {mask}\",\n",
    "                \"bad\" : f\"{text}. Overall, customer hate this product because {mask}.\",\n",
    "            },\n",
    "                    \n",
    "            \"score\":{\n",
    "                label: f\"{text}.Overall, this product's {target} is {mask}.\",\n",
    "            }\n",
    "    }\n",
    "    return prompts[usage][label]"
   ]
  },
  {
   "cell_type": "code",
   "execution_count": 169,
   "metadata": {},
   "outputs": [
    {
     "data": {
      "text/plain": [
       "\"Arrived on time. I set them up and they worked perfect for about 5 mins before one of them started sizzling and popping. the bulb went out. I purchased on amazon so i called amazon. they couldn't do anything. Safstar says it can be up to 3 business days before i get contacted to get a return started.\\nUpdate: I did move from 1 star to 3 stars. it did take 3 days for them to get back to me about a refund. But, they did issued a hassle free refund.\\nthen i moved back to 1 star because i waited for a refund. since April 22 i purchased arrived non functional. its May 7th and had to call amazon for a refund..Overall, this product's ['product', 'quality', 'expectation', 'material', 'broke', 'flaw', 'advertised', 'durable', 'year'] is <mask>.\""
      ]
     },
     "execution_count": 169,
     "metadata": {},
     "output_type": "execute_result"
    }
   ],
   "source": [
    "generate_prompt(\"score\",testtext,target=quality)"
   ]
  },
  {
   "cell_type": "code",
   "execution_count": 73,
   "metadata": {},
   "outputs": [
    {
     "name": "stdout",
     "output_type": "stream",
     "text": [
      "tensor([[37.8437, -3.5226, 45.9163,  ...,  0.2375,  1.6046, 25.9030]])\n"
     ]
    }
   ],
   "source": [
    "#get aspect\n",
    "prompt = generate_prompt(\"aspect\",testtext)\n",
    "logits = generate_logits(prompt,tokenizer,model)"
   ]
  },
  {
   "cell_type": "code",
   "execution_count": 82,
   "metadata": {},
   "outputs": [],
   "source": [
    "def verbalize(verbalizer):\n",
    "    return tokenizer.encode(f\" {verbalizer}\",add_special_tokens=False)"
   ]
  },
  {
   "cell_type": "code",
   "execution_count": 264,
   "metadata": {},
   "outputs": [
    {
     "name": "stdout",
     "output_type": "stream",
     "text": [
      "['product', 'quality', 'expectation', 'material', 'broke', 'flaw', 'advertised', 'durable', 'year']\n",
      "['overall', 'great', 'good', 'perfect', 'bad', 'complaints', 'recommended', 'love', 'awesome']\n",
      "['price', 'cheap', 'expensive', 'value', 'afford', 'cost']\n",
      "['looks', 'small', 'large', 'beautiful', 'design', 'disgusting']\n",
      "['service', 'replacement', 'quick', 'return', 'delivery', 'packaging']\n"
     ]
    }
   ],
   "source": [
    "    for verbalizer in verbalizers:\n",
    "        verb_id = verbalize(verbalizer)\n",
    "        if len(verb_id) > 1:\n",
    "            print(verbalizer)"
   ]
  },
  {
   "cell_type": "code",
   "execution_count": 265,
   "metadata": {},
   "outputs": [],
   "source": [
    "def sort_logit(verbalizers,logits):\n",
    "    result = {}\n",
    "    for verbalizer in verbalizers:\n",
    "        verb_id = verbalize(verbalizer)\n",
    "        if len(verb_id) > 1:\n",
    "            print(veralizer)\n",
    "            continue\n",
    "        result[verbalizer] = logits[verb_id[0]]\n",
    "    return [(k,v) for k,v in sorted(result.items(),key=lambda item:item[1])]"
   ]
  },
  {
   "cell_type": "code",
   "execution_count": 298,
   "metadata": {},
   "outputs": [],
   "source": [
    "import numpy as np\n",
    "def sort_tuple(tup): \n",
    "  \n",
    "    # reverse = None (Sorts in Ascending order) \n",
    "    # key is set to sort using second element of \n",
    "    # sublist lambda has been used \n",
    "    tup.sort(key = lambda x: x[1]) \n",
    "    return tup \n",
    "def conclude(results,aspects,overall = \"good\"):\n",
    "    best_aspect = np.argmax([result[-1][1] for result in results])\n",
    "    Top3 = [[result[-1] for result in results]]\n",
    "    print(Top3)\n",
    "    Top3 = sort_tuple(Top3)[-5:]\n",
    "    if overall == \"good\":\n",
    "        return f\"Overall, your product's best aspect is {aspects[best_aspect]},people love these features: {Top3}\"\n",
    "    else:\n",
    "        return f\"Overall, your product's not-so-good aspect is {aspects[best_aspect]},people didn't like these features: {Top3}\"\n"
   ]
  },
  {
   "cell_type": "code",
   "execution_count": 215,
   "metadata": {},
   "outputs": [],
   "source": [
    "test.to_csv(\"test_run.csv\")"
   ]
  },
  {
   "cell_type": "code",
   "execution_count": 216,
   "metadata": {},
   "outputs": [
    {
     "data": {
      "text/html": [
       "<div>\n",
       "<style scoped>\n",
       "    .dataframe tbody tr th:only-of-type {\n",
       "        vertical-align: middle;\n",
       "    }\n",
       "\n",
       "    .dataframe tbody tr th {\n",
       "        vertical-align: top;\n",
       "    }\n",
       "\n",
       "    .dataframe thead th {\n",
       "        text-align: right;\n",
       "    }\n",
       "</style>\n",
       "<table border=\"1\" class=\"dataframe\">\n",
       "  <thead>\n",
       "    <tr style=\"text-align: right;\">\n",
       "      <th></th>\n",
       "      <th>rating</th>\n",
       "      <th>text</th>\n",
       "    </tr>\n",
       "  </thead>\n",
       "  <tbody>\n",
       "    <tr>\n",
       "      <th>0</th>\n",
       "      <td>2</td>\n",
       "      <td>Charges without issues. Works great with my HP...</td>\n",
       "    </tr>\n",
       "    <tr>\n",
       "      <th>1</th>\n",
       "      <td>2</td>\n",
       "      <td>Fast Shipping and excelent Product Quality, Th...</td>\n",
       "    </tr>\n",
       "    <tr>\n",
       "      <th>2</th>\n",
       "      <td>1</td>\n",
       "      <td>Didn't charge laptop, feels incredibly light a...</td>\n",
       "    </tr>\n",
       "    <tr>\n",
       "      <th>3</th>\n",
       "      <td>2</td>\n",
       "      <td>it works</td>\n",
       "    </tr>\n",
       "    <tr>\n",
       "      <th>4</th>\n",
       "      <td>2</td>\n",
       "      <td>I ordered the power supply adapter so that I d...</td>\n",
       "    </tr>\n",
       "  </tbody>\n",
       "</table>\n",
       "</div>"
      ],
      "text/plain": [
       "   rating                                               text\n",
       "0       2  Charges without issues. Works great with my HP...\n",
       "1       2  Fast Shipping and excelent Product Quality, Th...\n",
       "2       1  Didn't charge laptop, feels incredibly light a...\n",
       "3       2                                           it works\n",
       "4       2  I ordered the power supply adapter so that I d..."
      ]
     },
     "execution_count": 216,
     "metadata": {},
     "output_type": "execute_result"
    }
   ],
   "source": [
    "test"
   ]
  },
  {
   "cell_type": "code",
   "execution_count": 100,
   "metadata": {},
   "outputs": [],
   "source": [
    "result = sort_logit(service,logits)"
   ]
  },
  {
   "cell_type": "code",
   "execution_count": 101,
   "metadata": {},
   "outputs": [
    {
     "data": {
      "text/plain": [
       "[('quick', tensor(3.6696e-06)),\n",
       " ('replacement', tensor(0.0002)),\n",
       " ('return', tensor(0.0006)),\n",
       " ('delivery', tensor(0.0015)),\n",
       " ('packaging', tensor(0.0092)),\n",
       " ('service', tensor(0.0103))]"
      ]
     },
     "execution_count": 101,
     "metadata": {},
     "output_type": "execute_result"
    }
   ],
   "source": [
    "result"
   ]
  },
  {
   "cell_type": "code",
   "execution_count": 55,
   "metadata": {},
   "outputs": [],
   "source": [
    "from abc import ABC"
   ]
  },
  {
   "cell_type": "code",
   "execution_count": 47,
   "metadata": {},
   "outputs": [
    {
     "data": {
      "text/plain": [
       "2    32523\n",
       "1    11713\n",
       "3     3764\n",
       "Name: overall, dtype: int64"
      ]
     },
     "execution_count": 47,
     "metadata": {},
     "output_type": "execute_result"
    }
   ],
   "source": [
    "train.overall.value_counts()"
   ]
  },
  {
   "cell_type": "code",
   "execution_count": 88,
   "metadata": {},
   "outputs": [
    {
     "name": "stdout",
     "output_type": "stream",
     "text": [
      "Requirement already satisfied: gensim in /Users/liu_zizhou/opt/anaconda3/lib/python3.8/site-packages (3.8.3)\n",
      "Requirement already satisfied: six>=1.5.0 in /Users/liu_zizhou/opt/anaconda3/lib/python3.8/site-packages (from gensim) (1.15.0)\n",
      "Requirement already satisfied: scipy>=0.18.1 in /Users/liu_zizhou/opt/anaconda3/lib/python3.8/site-packages (from gensim) (1.5.2)\n",
      "Requirement already satisfied: numpy>=1.11.3 in /Users/liu_zizhou/opt/anaconda3/lib/python3.8/site-packages (from gensim) (1.19.2)\n",
      "Requirement already satisfied: smart-open>=1.8.1 in /Users/liu_zizhou/opt/anaconda3/lib/python3.8/site-packages (from gensim) (5.0.0)\n"
     ]
    }
   ],
   "source": [
    "!pip install gensim"
   ]
  },
  {
   "cell_type": "code",
   "execution_count": 1,
   "metadata": {},
   "outputs": [],
   "source": [
    "import gensim"
   ]
  },
  {
   "cell_type": "code",
   "execution_count": 25,
   "metadata": {},
   "outputs": [],
   "source": [
    "model = gensim.models.KeyedVectors.load_word2vec_format('GoogleNews-vectors-negative300.bin', binary = True)"
   ]
  },
  {
   "cell_type": "code",
   "execution_count": null,
   "metadata": {},
   "outputs": [],
   "source": []
  },
  {
   "cell_type": "code",
   "execution_count": 11,
   "metadata": {},
   "outputs": [],
   "source": [
    "train= pd.read_csv(\"train.csv\")"
   ]
  },
  {
   "cell_type": "code",
   "execution_count": 12,
   "metadata": {},
   "outputs": [],
   "source": [
    "test = pd.read_csv(\"test.csv\")"
   ]
  },
  {
   "cell_type": "code",
   "execution_count": 41,
   "metadata": {},
   "outputs": [],
   "source": [
    "data.loc[data[\"overall\"] > 3, \"overall\"] = 2\n",
    "data.loc[data[\"overall\"] < 3, \"overall\"] = 1"
   ]
  },
  {
   "cell_type": "code",
   "execution_count": 1,
   "metadata": {},
   "outputs": [
    {
     "ename": "NameError",
     "evalue": "name 'data' is not defined",
     "output_type": "error",
     "traceback": [
      "\u001b[1;31m---------------------------------------------------------------------------\u001b[0m",
      "\u001b[1;31mNameError\u001b[0m                                 Traceback (most recent call last)",
      "Input \u001b[1;32mIn [1]\u001b[0m, in \u001b[0;36m<module>\u001b[1;34m\u001b[0m\n\u001b[1;32m----> 1\u001b[0m \u001b[43mdata\u001b[49m\u001b[38;5;241m.\u001b[39mhead(\u001b[38;5;241m20\u001b[39m)\n",
      "\u001b[1;31mNameError\u001b[0m: name 'data' is not defined"
     ]
    }
   ],
   "source": [
    "data.head(20)"
   ]
  },
  {
   "cell_type": "code",
   "execution_count": 19,
   "metadata": {},
   "outputs": [],
   "source": [
    "import nltk\n",
    "from nltk.corpus import stopwords  #stopwords\n",
    "from nltk.stem import WordNetLemmatizer  \n",
    "from sklearn.feature_extraction.text import TfidfVectorizer\n",
    "stop_words=set(nltk.corpus.stopwords.words('english'))"
   ]
  },
  {
   "cell_type": "code",
   "execution_count": 21,
   "metadata": {},
   "outputs": [
    {
     "ename": "ModuleNotFoundError",
     "evalue": "No module named 'stemmer'",
     "output_type": "error",
     "traceback": [
      "\u001b[0;31m---------------------------------------------------------------------------\u001b[0m",
      "\u001b[0;31mModuleNotFoundError\u001b[0m                       Traceback (most recent call last)",
      "\u001b[0;32m<ipython-input-21-23104a1cb70c>\u001b[0m in \u001b[0;36m<module>\u001b[0;34m\u001b[0m\n\u001b[0;32m----> 1\u001b[0;31m \u001b[0;32mimport\u001b[0m \u001b[0mstemmer\u001b[0m\u001b[0;34m\u001b[0m\u001b[0;34m\u001b[0m\u001b[0m\n\u001b[0m",
      "\u001b[0;31mModuleNotFoundError\u001b[0m: No module named 'stemmer'"
     ]
    }
   ],
   "source": [
    "import stemmer"
   ]
  },
  {
   "cell_type": "code",
   "execution_count": 22,
   "metadata": {},
   "outputs": [],
   "source": [
    "def lemmatize_stemming(text):\n",
    "    return WordNetLemmatizer().lemmatize(text, pos='v')\n",
    "def preprocess(text):\n",
    "    result = []\n",
    "    for token in gensim.utils.simple_preprocess(text):\n",
    "        if token not in gensim.parsing.preprocessing.STOPWORDS and len(token) > 3:\n",
    "            result.append(lemmatize_stemming(token))\n",
    "    return result"
   ]
  },
  {
   "cell_type": "code",
   "execution_count": 24,
   "metadata": {},
   "outputs": [],
   "source": [
    "processed_docs = beauty['text'].fillna('').astype(str).map(preprocess)"
   ]
  },
  {
   "cell_type": "code",
   "execution_count": null,
   "metadata": {},
   "outputs": [],
   "source": [
    "target_names = ['negative','positive']\n",
    "def report(true, predicted, labels = None, target_names = None):\n",
    "    print(classification_report(true,predicted,labels = labels, target_names = target_names,digits=4))\n",
    "    cm = confusion_matrix(true,predicted,labels = labels)\n",
    "    disp = ConfusionMatrixDisplay(confusion_matrix=cm, display_labels=target_names)\n",
    "    disp.plot()\n",
    "    plt.show()"
   ]
  },
  {
   "cell_type": "code",
   "execution_count": 26,
   "metadata": {},
   "outputs": [],
   "source": [
    "dictionary = gensim.corpora.Dictionary(processed_docs)\n",
    "dictionary.filter_extremes(no_below=15, no_above=0.5, keep_n=100000)"
   ]
  },
  {
   "cell_type": "code",
   "execution_count": 27,
   "metadata": {},
   "outputs": [],
   "source": [
    "bow_corpus = [dictionary.doc2bow(doc) for doc in processed_docs]"
   ]
  },
  {
   "cell_type": "code",
   "execution_count": 28,
   "metadata": {},
   "outputs": [],
   "source": [
    "from gensim import corpora, models\n",
    "tfidf = models.TfidfModel(bow_corpus)\n",
    "corpus_tfidf = tfidf[bow_corpus]"
   ]
  },
  {
   "cell_type": "code",
   "execution_count": 29,
   "metadata": {},
   "outputs": [],
   "source": [
    "lda_model = gensim.models.LdaMulticore(bow_corpus, num_topics=10, id2word=dictionary, passes=2, workers=2)"
   ]
  },
  {
   "cell_type": "code",
   "execution_count": 30,
   "metadata": {},
   "outputs": [
    {
     "name": "stdout",
     "output_type": "stream",
     "text": [
      "Topic: 0 \n",
      "Words: 0.039*\"makeup\" + 0.026*\"face\" + 0.025*\"mask\" + 0.020*\"best\" + 0.016*\"deodorant\" + 0.015*\"skin\" + 0.013*\"sponge\" + 0.013*\"natural\" + 0.011*\"like\" + 0.011*\"try\"\n",
      "Topic: 1 \n",
      "Words: 0.012*\"work\" + 0.012*\"time\" + 0.012*\"like\" + 0.010*\"water\" + 0.010*\"help\" + 0.010*\"apply\" + 0.009*\"skin\" + 0.008*\"go\" + 0.008*\"hand\" + 0.008*\"little\"\n",
      "Topic: 2 \n",
      "Words: 0.049*\"skin\" + 0.044*\"smell\" + 0.039*\"love\" + 0.024*\"like\" + 0.024*\"feel\" + 0.023*\"product\" + 0.019*\"scent\" + 0.017*\"great\" + 0.015*\"good\" + 0.013*\"soap\"\n",
      "Topic: 3 \n",
      "Words: 0.208*\"great\" + 0.168*\"work\" + 0.060*\"product\" + 0.022*\"excellent\" + 0.019*\"price\" + 0.018*\"easy\" + 0.016*\"good\" + 0.015*\"image\" + 0.011*\"value\" + 0.010*\"recommend\"\n",
      "Topic: 4 \n",
      "Words: 0.053*\"nail\" + 0.032*\"product\" + 0.032*\"thank\" + 0.027*\"love\" + 0.026*\"fast\" + 0.026*\"polish\" + 0.025*\"ship\" + 0.021*\"time\" + 0.020*\"arrive\" + 0.018*\"great\"\n",
      "Topic: 5 \n",
      "Words: 0.023*\"shave\" + 0.023*\"lipstick\" + 0.017*\"razor\" + 0.012*\"head\" + 0.012*\"charge\" + 0.012*\"years\" + 0.012*\"time\" + 0.010*\"close\" + 0.010*\"like\" + 0.008*\"clean\"\n",
      "Topic: 6 \n",
      "Words: 0.048*\"brush\" + 0.047*\"good\" + 0.041*\"quality\" + 0.023*\"nice\" + 0.020*\"price\" + 0.014*\"cheap\" + 0.013*\"hold\" + 0.013*\"look\" + 0.012*\"come\" + 0.011*\"like\"\n",
      "Topic: 7 \n",
      "Words: 0.075*\"product\" + 0.028*\"review\" + 0.017*\"work\" + 0.016*\"money\" + 0.015*\"receive\" + 0.013*\"purchase\" + 0.010*\"good\" + 0.010*\"time\" + 0.010*\"result\" + 0.009*\"honest\"\n",
      "Topic: 8 \n",
      "Words: 0.094*\"love\" + 0.031*\"like\" + 0.022*\"size\" + 0.022*\"look\" + 0.020*\"perfect\" + 0.020*\"order\" + 0.018*\"buy\" + 0.017*\"wear\" + 0.017*\"cute\" + 0.016*\"gift\"\n",
      "Topic: 9 \n",
      "Words: 0.099*\"hair\" + 0.066*\"color\" + 0.030*\"look\" + 0.022*\"like\" + 0.013*\"long\" + 0.010*\"apply\" + 0.009*\"stay\" + 0.009*\"pretty\" + 0.009*\"little\" + 0.008*\"wear\"\n"
     ]
    }
   ],
   "source": [
    "for idx, topic in lda_model.print_topics(-1):\n",
    "    print('Topic: {} \\nWords: {}'.format(idx, topic))"
   ]
  },
  {
   "cell_type": "code",
   "execution_count": 31,
   "metadata": {},
   "outputs": [],
   "source": [
    "lda_model_tfidf = gensim.models.LdaMulticore(corpus_tfidf, num_topics=10, id2word=dictionary, passes=2, workers=4)"
   ]
  },
  {
   "cell_type": "code",
   "execution_count": 32,
   "metadata": {},
   "outputs": [
    {
     "name": "stdout",
     "output_type": "stream",
     "text": [
      "Topic: 0 Word: 0.052*\"hair\" + 0.012*\"love\" + 0.012*\"wife\" + 0.008*\"great\" + 0.008*\"work\" + 0.008*\"fine\" + 0.008*\"hold\" + 0.008*\"shampoo\" + 0.008*\"curl\" + 0.007*\"like\"\n",
      "Topic: 1 Word: 0.020*\"skin\" + 0.010*\"face\" + 0.010*\"product\" + 0.008*\"feel\" + 0.008*\"cream\" + 0.007*\"love\" + 0.007*\"apply\" + 0.007*\"color\" + 0.007*\"like\" + 0.006*\"lips\"\n",
      "Topic: 2 Word: 0.059*\"nice\" + 0.030*\"beautiful\" + 0.015*\"best\" + 0.013*\"fit\" + 0.010*\"perfectly\" + 0.010*\"comfortable\" + 0.008*\"look\" + 0.008*\"color\" + 0.008*\"costume\" + 0.008*\"great\"\n",
      "Topic: 3 Word: 0.035*\"smell\" + 0.021*\"scent\" + 0.017*\"soap\" + 0.017*\"love\" + 0.016*\"stuff\" + 0.014*\"great\" + 0.013*\"awesome\" + 0.011*\"wonderful\" + 0.011*\"skin\" + 0.010*\"fragrance\"\n",
      "Topic: 4 Word: 0.015*\"color\" + 0.014*\"nail\" + 0.009*\"polish\" + 0.008*\"like\" + 0.007*\"look\" + 0.005*\"stay\" + 0.005*\"love\" + 0.005*\"wear\" + 0.005*\"come\" + 0.005*\"coat\"\n",
      "Topic: 5 Word: 0.097*\"good\" + 0.018*\"product\" + 0.013*\"teeth\" + 0.011*\"okay\" + 0.010*\"clean\" + 0.010*\"taste\" + 0.009*\"floss\" + 0.009*\"easy\" + 0.008*\"work\" + 0.008*\"water\"\n",
      "Topic: 6 Word: 0.027*\"excellent\" + 0.021*\"like\" + 0.014*\"shave\" + 0.012*\"razor\" + 0.008*\"work\" + 0.007*\"product\" + 0.007*\"charge\" + 0.007*\"blades\" + 0.006*\"shaver\" + 0.006*\"head\"\n",
      "Topic: 7 Word: 0.237*\"love\" + 0.026*\"daughter\" + 0.023*\"gift\" + 0.023*\"product\" + 0.015*\"color\" + 0.013*\"years\" + 0.012*\"buy\" + 0.011*\"absolutely\" + 0.009*\"granddaughter\" + 0.009*\"husband\"\n",
      "Topic: 8 Word: 0.014*\"break\" + 0.014*\"money\" + 0.011*\"brush\" + 0.011*\"waste\" + 0.008*\"return\" + 0.008*\"come\" + 0.007*\"product\" + 0.007*\"disappoint\" + 0.006*\"work\" + 0.006*\"receive\"\n",
      "Topic: 9 Word: 0.078*\"great\" + 0.048*\"work\" + 0.035*\"product\" + 0.026*\"price\" + 0.025*\"perfect\" + 0.024*\"thank\" + 0.023*\"quality\" + 0.023*\"expect\" + 0.022*\"cute\" + 0.021*\"good\"\n"
     ]
    }
   ],
   "source": [
    "for idx, topic in lda_model_tfidf.print_topics(-1):\n",
    "    print('Topic: {} Word: {}'.format(idx, topic))"
   ]
  },
  {
   "cell_type": "code",
   "execution_count": null,
   "metadata": {},
   "outputs": [],
   "source": [
    "experience = [\"feel\",\"smell\",\"fit\",\"comfort\",\"clean\",\"taste\",\"scent\",\"cute\",\"pretty\"]"
   ]
  }
 ],
 "metadata": {
  "kernelspec": {
   "display_name": "Python 3",
   "language": "python",
   "name": "python3"
  },
  "language_info": {
   "codemirror_mode": {
    "name": "ipython",
    "version": 3
   },
   "file_extension": ".py",
   "mimetype": "text/x-python",
   "name": "python",
   "nbconvert_exporter": "python",
   "pygments_lexer": "ipython3",
   "version": "3.8.5"
  }
 },
 "nbformat": 4,
 "nbformat_minor": 5
}
