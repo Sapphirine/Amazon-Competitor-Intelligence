{
 "cells": [
  {
   "cell_type": "code",
   "execution_count": 7,
   "id": "741c402e",
   "metadata": {},
   "outputs": [],
   "source": [
    "from selenium.webdriver.support.ui import WebDriverWait \n",
    "from selenium.webdriver.support import expected_conditions as EC"
   ]
  },
  {
   "cell_type": "code",
   "execution_count": 8,
   "id": "e45f9711",
   "metadata": {},
   "outputs": [
    {
     "name": "stderr",
     "output_type": "stream",
     "text": [
      "\n",
      "\n",
      "====== WebDriver manager ======\n",
      "Current google-chrome version is 100.0.4896\n",
      "Get LATEST chromedriver version for 100.0.4896 google-chrome\n",
      "Driver [/Users/siyuwu/.wdm/drivers/chromedriver/mac64_m1/100.0.4896.60/chromedriver] found in cache\n"
     ]
    }
   ],
   "source": [
    "\n",
    "from selenium import webdriver\n",
    "from selenium.webdriver.chrome.service import Service\n",
    "from webdriver_manager.chrome import ChromeDriverManager\n",
    "from selenium.webdriver.common.by import By\n",
    "driver = webdriver.Chrome(service=Service(ChromeDriverManager().install()))\n",
    "driver.get(\"https://www.amazon.com/s/ref=nb_sb_noss?url=search-alias%3Delectronics&field-keywords=&ref=nb_sb_noss&crid=3E4ISD7TA0ZBN&sprefix=%2Celectronics%2C32\")\n",
    "# assign any keyword for searching\n",
    "keyword = \"audio headphone\"\n",
    "# create WebElement for a search box\n",
    "search_box = driver.find_element(By.ID,\"twotabsearchtextbox\")\n",
    "# type the keyword in searchbox\n",
    "search_box.send_keys(keyword)\n",
    "# create WebElement for a search button\n",
    "search_button = driver.find_element(By.ID,\"nav-search-submit-button\")\n",
    "# click search_button\n",
    "search_button.click()\n",
    "# wait for the page to download\n",
    "driver.implicitly_wait(5)\n",
    "# quit the driver after finishing scraping (please keep this line at the bottom)\n",
    "#driver.quit()"
   ]
  },
  {
   "cell_type": "code",
   "execution_count": null,
   "id": "517b3a06",
   "metadata": {},
   "outputs": [],
   "source": [
    "# assign any keyword for searching\n",
    "keyword = \"audio headphone\"\n",
    "# create WebElement for a search box\n",
    "search_box = driver.find_element(By.ID,\"twotabsearchtextbox\")\n",
    "# type the keyword in searchbox\n",
    "search_box.send_keys(keyword)\n",
    "# create WebElement for a search button\n",
    "search_button = driver.find_element(By.ID,\"nav-search-submit-button\")\n",
    "# click search_button\n",
    "search_button.click()\n",
    "# wait for the page to download\n",
    "driver.implicitly_wait(5)\n",
    "# quit the driver after finishing scraping (please keep this line at the bottom)\n",
    "#driver.quit()"
   ]
  },
  {
   "cell_type": "code",
   "execution_count": 5,
   "id": "21acc813",
   "metadata": {},
   "outputs": [],
   "source": [
    "product_name = []\n",
    "product_asin = []\n",
    "product_price = []\n",
    "product_ratings = []\n",
    "product_ratings_num = []\n",
    "product_link = []"
   ]
  },
  {
   "cell_type": "code",
   "execution_count": 6,
   "id": "2a92c818",
   "metadata": {},
   "outputs": [
    {
     "ename": "NameError",
     "evalue": "name 'items' is not defined",
     "output_type": "error",
     "traceback": [
      "\u001b[0;31m---------------------------------------------------------------------------\u001b[0m",
      "\u001b[0;31mNameError\u001b[0m                                 Traceback (most recent call last)",
      "Input \u001b[0;32mIn [6]\u001b[0m, in \u001b[0;36m<cell line: 1>\u001b[0;34m()\u001b[0m\n\u001b[0;32m----> 1\u001b[0m \u001b[38;5;28;01mfor\u001b[39;00m item \u001b[38;5;129;01min\u001b[39;00m \u001b[43mitems\u001b[49m:\n\u001b[1;32m      2\u001b[0m     \u001b[38;5;66;03m# find name\u001b[39;00m\n\u001b[1;32m      3\u001b[0m     name \u001b[38;5;241m=\u001b[39m item\u001b[38;5;241m.\u001b[39mfind_element(By\u001b[38;5;241m.\u001b[39mXPATH,\u001b[38;5;124m'\u001b[39m\u001b[38;5;124m.//span[@class=\u001b[39m\u001b[38;5;124m\"\u001b[39m\u001b[38;5;124ma-size-medium a-color-base a-text-normal\u001b[39m\u001b[38;5;124m\"\u001b[39m\u001b[38;5;124m]\u001b[39m\u001b[38;5;124m'\u001b[39m)\n\u001b[1;32m      4\u001b[0m     product_name\u001b[38;5;241m.\u001b[39mappend(name\u001b[38;5;241m.\u001b[39mtext)\n",
      "\u001b[0;31mNameError\u001b[0m: name 'items' is not defined"
     ]
    }
   ],
   "source": [
    "for item in items:\n",
    "    # find name\n",
    "    name = item.find_element(By.XPATH,'.//span[@class=\"a-size-medium a-color-base a-text-normal\"]')\n",
    "    product_name.append(name.text)\n",
    "\n",
    "    # find ASIN number \n",
    "    data_asin = item.get_attribute(\"data-asin\")\n",
    "    product_asin.append(data_asin)\n",
    "\n",
    "    # find price\n",
    "    whole_price = item.find_elements(By.XPATH,'.//span[@class=\"a-price-whole\"]')\n",
    "    fraction_price = item.find_elements_by_xpath('.//span[@class=\"a-price-fraction\"]')\n",
    "    \n",
    "    if whole_price != [] and fraction_price != []:\n",
    "        price = '.'.join([whole_price[0].text, fraction_price[0].text])\n",
    "    else:\n",
    "        price = 0\n",
    "    product_price.append(price)\n",
    "\n",
    "    # find ratings box\n",
    "    ratings_box = item.find_elements(By.XPATH,'.//div[@class=\"a-row a-size-small\"]/span')\n",
    "\n",
    "    # find ratings and ratings_num\n",
    "    if ratings_box != []:\n",
    "        ratings = ratings_box[0].get_attribute('aria-label')\n",
    "        ratings_num = ratings_box[1].get_attribute('aria-label')\n",
    "    else:\n",
    "        ratings, ratings_num = 0, 0\n",
    "    \n",
    "    product_ratings.append(ratings)\n",
    "    product_ratings_num.append(str(ratings_num))\n",
    "    \n",
    "    # find link\n",
    "    link = item.find_element(By.XPATH,'.//a[@class=\"a-link-normal s-underline-text s-underline-link-text s-link-style a-text-normal\"]').get_attribute(\"href\")\n",
    "    product_link.append(link)\n",
    "\n",
    "driver.quit()"
   ]
  },
  {
   "cell_type": "code",
   "execution_count": 37,
   "id": "fc4e92e4",
   "metadata": {},
   "outputs": [
    {
     "name": "stdout",
     "output_type": "stream",
     "text": [
      "['https://www.amazon.com/gp/slredirect/picassoRedirect.html/ref=pa_sp_atf_electronics_sr_pg1_1?ie=UTF8&adId=A03476143SVZ3X9F6QL9X&url=%2FAudio-Technica-ATH-M50x-Professional-Monitor-Headphones%2Fdp%2FB00HVLUR86%2Fref%3Dsr_1_1_sspa%3Fcrid%3D283VIH6VNNL96%26keywords%3Daudio%2Bheadphone%26qid%3D1650043911%26s%3Delectronics%26sprefix%3D%252Celectronics%252C41%26sr%3D1-1-spons%26psc%3D1&qualifier=1650043911&id=6186204731035508&widgetName=sp_atf', 'https://www.amazon.com/gp/slredirect/picassoRedirect.html/ref=pa_sp_atf_electronics_sr_pg1_1?ie=UTF8&adId=A038901721R59ZVKZQEUL&url=%2FNeasy-6-Pack-Headphone-Adapter-Guitars%2Fdp%2FB09PN6VCBP%2Fref%3Dsr_1_2_sspa%3Fcrid%3D283VIH6VNNL96%26keywords%3Daudio%2Bheadphone%26qid%3D1650043911%26s%3Delectronics%26sprefix%3D%252Celectronics%252C41%26sr%3D1-2-spons%26psc%3D1&qualifier=1650043911&id=6186204731035508&widgetName=sp_atf', 'https://www.amazon.com/Audio-Technica-ATH-M20x-Professional-Monitor-Headphones/dp/B00HVLUR18/ref=sr_1_3?crid=283VIH6VNNL96&keywords=audio+headphone&qid=1650043911&s=electronics&sprefix=%2Celectronics%2C41&sr=1-3', 'https://www.amazon.com/OneOdio-Adapter-Free-Headphones-Professional-Telescopic/dp/B01N6ZJH96/ref=sr_1_4?crid=283VIH6VNNL96&keywords=audio+headphone&qid=1650043911&s=electronics&sprefix=%2Celectronics%2C41&sr=1-4', 'https://www.amazon.com/Soundcore-Cancelling-Headphones-Comfortable-Bluetooth/dp/B08HMWZBXC/ref=sr_1_5?crid=283VIH6VNNL96&keywords=audio+headphone&qid=1650043911&s=electronics&sprefix=%2Celectronics%2C41&sr=1-5', 'https://www.amazon.com/Sony-MDRZX110-BLK-Stereo-Headphones/dp/B00NJ2M33I/ref=sr_1_6?crid=283VIH6VNNL96&keywords=audio+headphone&qid=1650043911&s=electronics&sprefix=%2Celectronics%2C41&sr=1-6', 'https://www.amazon.com/gp/slredirect/picassoRedirect.html/ref=pa_sp_mtf_electronics_sr_pg1_1?ie=UTF8&adId=A05178602O0BE73D1FLEH&url=%2FOneOdio-Adapter-Free-Headphones-Professional-Telescopic%2Fdp%2FB01N6ZJH96%2Fref%3Dsr_1_7_sspa%3Fcrid%3D283VIH6VNNL96%26keywords%3Daudio%2Bheadphone%26qid%3D1650043911%26s%3Delectronics%26sprefix%3D%252Celectronics%252C41%26sr%3D1-7-spons%26psc%3D1&qualifier=1650043911&id=6186204731035508&widgetName=sp_mtf', 'https://www.amazon.com/Tascam-TH-02-Closed-Studio-Headphones/dp/B00B1N06PO/ref=sr_1_8?crid=283VIH6VNNL96&keywords=audio+headphone&qid=1650043911&s=electronics&sprefix=%2Celectronics%2C41&sr=1-8', 'https://www.amazon.com/Sennheiser-HD280PRO-Headphone-new-model/dp/B00IT0IHOY/ref=sr_1_9?crid=283VIH6VNNL96&keywords=audio+headphone&qid=1650043911&s=electronics&sprefix=%2Celectronics%2C41&sr=1-9', 'https://www.amazon.com/AKG-K240STUDIO-Semi-Open-Professional-Headphones/dp/B0001ARCFA/ref=sr_1_10?crid=283VIH6VNNL96&keywords=audio+headphone&qid=1650043911&s=electronics&sprefix=%2Celectronics%2C41&sr=1-10', 'https://www.amazon.com/Soundcore-Cancelling-Headphones-Wireless-Bluetooth/dp/B07NM3RSRQ/ref=sr_1_11?crid=283VIH6VNNL96&keywords=audio+headphone&qid=1650043911&s=electronics&sprefix=%2Celectronics%2C41&sr=1-11', 'https://www.amazon.com/gp/slredirect/picassoRedirect.html/ref=pa_sp_mtf_electronics_sr_pg1_1?ie=UTF8&adId=A0717468142726KR5KABQ&url=%2FOneOdio-Adapter-Free-Headphones-Monitoring-Isolation%2Fdp%2FB01F59T4HU%2Fref%3Dsr_1_12_sspa%3Fcrid%3D283VIH6VNNL96%26keywords%3Daudio%2Bheadphone%26qid%3D1650043911%26s%3Delectronics%26sprefix%3D%252Celectronics%252C41%26sr%3D1-12-spons%26psc%3D1&qualifier=1650043911&id=6186204731035508&widgetName=sp_mtf', 'https://www.amazon.com/OneOdio-Bluetooth-Over-Ear-Headphones/dp/B0828PYKZN/ref=sr_1_13?crid=283VIH6VNNL96&keywords=audio+headphone&qid=1650043911&s=electronics&sprefix=%2Celectronics%2C41&sr=1-13', 'https://www.amazon.com/Sennheiser-HD-599-SE-Headphone/dp/B07RFNZYJZ/ref=sr_1_14?crid=283VIH6VNNL96&keywords=audio+headphone&qid=1650043911&s=electronics&sprefix=%2Celectronics%2C41&sr=1-14', 'https://www.amazon.com/AKG-Pro-Audio-K72-CLOSED-BACK/dp/B01AYSNHVQ/ref=sr_1_15?crid=283VIH6VNNL96&keywords=audio+headphone&qid=1650043911&s=electronics&sprefix=%2Celectronics%2C41&sr=1-15', 'https://www.amazon.com/Audio-Technica-ATH-M50x-Professional-Monitor-Headphones/dp/B00HVLUR86/ref=sr_1_16?crid=283VIH6VNNL96&keywords=audio+headphone&qid=1650043911&s=electronics&sprefix=%2Celectronics%2C41&sr=1-16', 'https://www.amazon.com/gp/slredirect/picassoRedirect.html/ref=pa_sp_mtf_electronics_sr_pg1_1?ie=UTF8&adId=A078805928XKIM74OQMV9&url=%2FIsolating-Headphones-Microphone-Adjustable-Turquoise%2Fdp%2FB087JWTWF9%2Fref%3Dsr_1_17_sspa%3Fcrid%3D283VIH6VNNL96%26keywords%3Daudio%2Bheadphone%26qid%3D1650043911%26s%3Delectronics%26sprefix%3D%252Celectronics%252C41%26sr%3D1-17-spons%26psc%3D1&qualifier=1650043911&id=6186204731035508&widgetName=sp_mtf', 'https://www.amazon.com/OneOdio-Headphone-Lightweight-Headphones-Monitoring/dp/B07G748HKJ/ref=sr_1_18?crid=283VIH6VNNL96&keywords=audio+headphone&qid=1650043911&s=electronics&sprefix=%2Celectronics%2C41&sr=1-18', 'https://www.amazon.com/OneOdio-Headphones-Noise-Isolation-Professional-Headphones/dp/B08738D39L/ref=sr_1_19?crid=283VIH6VNNL96&keywords=audio+headphone&qid=1650043911&s=electronics&sprefix=%2Celectronics%2C41&sr=1-19', 'https://www.amazon.com/OneOdio-Monitor-Professional-Studio-Headphones/dp/B096SJSBXC/ref=sr_1_20?crid=283VIH6VNNL96&keywords=audio+headphone&qid=1650043911&s=electronics&sprefix=%2Celectronics%2C41&sr=1-20', 'https://www.amazon.com/Audio-Technica-ATH-M30x-Professional-Monitor-Headphones/dp/B00HVLUQW8/ref=sr_1_21?crid=283VIH6VNNL96&keywords=audio+headphone&qid=1650043911&s=electronics&sprefix=%2Celectronics%2C41&sr=1-21', 'https://www.amazon.com/gp/slredirect/picassoRedirect.html/ref=pa_sp_btf_electronics_sr_pg1_1?ie=UTF8&adId=A040950592QA381LRPSH&url=%2FMuveAcoustics-Impulse-Wired-Headphone-Flagship%2Fdp%2FB01MXPH0G9%2Fref%3Dsr_1_22_sspa%3Fcrid%3D283VIH6VNNL96%26keywords%3Daudio%2Bheadphone%26qid%3D1650043911%26s%3Delectronics%26sprefix%3D%252Celectronics%252C41%26sr%3D1-22-spons%26psc%3D1&qualifier=1650043911&id=6186204731035508&widgetName=sp_btf', 'https://www.amazon.com/APEKX-Bluetooth-Headphones-Wireless-Hands-Free/dp/B01MUXYVOA/ref=sr_1_23?crid=283VIH6VNNL96&keywords=audio+headphone&qid=1650043911&s=electronics&sprefix=%2Celectronics%2C41&sr=1-23', 'https://www.amazon.com/Headphone-Comfortable-Headphones-Shareport-Monitoring/dp/B07G74V1YP/ref=sr_1_24?crid=283VIH6VNNL96&keywords=audio+headphone&qid=1650043911&s=electronics&sprefix=%2Celectronics%2C41&sr=1-24', 'https://www.amazon.com/Headphones-Feather-Ultra-plush-Leather-GUARANTEED/dp/B01C3H9D5K/ref=sr_1_25?crid=283VIH6VNNL96&keywords=audio+headphone&qid=1650043911&s=electronics&sprefix=%2Celectronics%2C41&sr=1-25', 'https://www.amazon.com/bopmen-T3-Wired-Over-Headphones/dp/B0853NW29Z/ref=sr_1_26?crid=283VIH6VNNL96&keywords=audio+headphone&qid=1650043911&s=electronics&sprefix=%2Celectronics%2C41&sr=1-26', 'https://www.amazon.com/OneOdio-Wired-Over-Ear-Headphones/dp/B07WT15ZQF/ref=sr_1_27?crid=283VIH6VNNL96&keywords=audio+headphone&qid=1650043911&s=electronics&sprefix=%2Celectronics%2C41&sr=1-27', 'https://www.amazon.com/OneOdio-Adapter-Free-Headphones-Monitoring-Isolation/dp/B01F59T4HU/ref=sr_1_28?crid=283VIH6VNNL96&keywords=audio+headphone&qid=1650043911&s=electronics&sprefix=%2Celectronics%2C41&sr=1-28', 'https://www.amazon.com/Philips-SHP9500S-Precision-Over-ear-Headphones/dp/B00ENMK1DW/ref=sr_1_29?crid=283VIH6VNNL96&keywords=audio+headphone&qid=1650043911&s=electronics&sprefix=%2Celectronics%2C41&sr=1-29', 'https://www.amazon.com/Puro-Sound-Labs-Bluetooth-Headphones/dp/B08JG5JJD7/ref=sr_1_30?crid=283VIH6VNNL96&keywords=audio+headphone&qid=1650043911&s=electronics&sprefix=%2Celectronics%2C41&sr=1-30']\n"
     ]
    }
   ],
   "source": []
  },
  {
   "cell_type": "code",
   "execution_count": null,
   "id": "404b4edb",
   "metadata": {},
   "outputs": [],
   "source": []
  }
 ],
 "metadata": {
  "kernelspec": {
   "display_name": "Python 3 (ipykernel)",
   "language": "python",
   "name": "python3"
  },
  "language_info": {
   "codemirror_mode": {
    "name": "ipython",
    "version": 3
   },
   "file_extension": ".py",
   "mimetype": "text/x-python",
   "name": "python",
   "nbconvert_exporter": "python",
   "pygments_lexer": "ipython3",
   "version": "3.8.13"
  }
 },
 "nbformat": 4,
 "nbformat_minor": 5
}
